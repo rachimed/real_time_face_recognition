{
  "nbformat": 4,
  "nbformat_minor": 0,
  "metadata": {
    "colab": {
      "provenance": []
    },
    "kernelspec": {
      "name": "python3",
      "display_name": "Python 3"
    },
    "language_info": {
      "name": "python"
    }
  },
  "cells": [
    {
      "cell_type": "code",
      "execution_count": null,
      "metadata": {
        "id": "tdEd-ZuySt-6"
      },
      "outputs": [],
      "source": []
    },
    {
      "cell_type": "code",
      "execution_count": 1,
      "metadata": {
        "id": "oVbuUVLXaiUb"
      },
      "outputs": [],
      "source": [
        "import os\n",
        "import cv2\n",
        "import shutil\n",
        "import matplotlib.pyplot as plt\n",
        "import seaborn as sns\n",
        "import numpy as np\n",
        "import tensorflow as tf\n",
        "from sklearn.model_selection import train_test_split\n",
        "from tensorflow.keras.preprocessing.image import ImageDataGenerator"
      ]
    },
    {
      "cell_type": "markdown",
      "source": [
        "# Charger le dataset"
      ],
      "metadata": {
        "id": "F-lsSyCSa0Fp"
      }
    },
    {
      "cell_type": "code",
      "source": [
        "from google.colab import drive\n",
        "drive.mount('/content/drive')\n"
      ],
      "metadata": {
        "colab": {
          "base_uri": "https://localhost:8080/"
        },
        "id": "xeGzRRhyawPo",
        "outputId": "be3dc742-a842-438b-c123-4a4e4b5a28d5"
      },
      "execution_count": 10,
      "outputs": [
        {
          "output_type": "stream",
          "name": "stdout",
          "text": [
            "Drive already mounted at /content/drive; to attempt to forcibly remount, call drive.mount(\"/content/drive\", force_remount=True).\n"
          ]
        }
      ]
    },
    {
      "cell_type": "code",
      "source": [
        "# Chemin vers le dossier contenant les dossiers de célébrités\n",
        "\n",
        "root_dir = '/content/drive/MyDrive/ProjetIA/Real_time_face_recognition/face_dataset/dataset'\n",
        "classes_dir = os.listdir(root_dir)"
      ],
      "metadata": {
        "id": "dX3yl20Va4lA"
      },
      "execution_count": 7,
      "outputs": []
    },
    {
      "cell_type": "code",
      "source": [
        "# Créer les dossiers de destination s'ils n'existent pas déjà\n",
        "os.makedirs('/content/drive/MyDrive/ProjetIA/Real_time_face_recognition/face_dataset/data/train', exist_ok=True)\n",
        "os.makedirs('/content/drive/MyDrive/ProjetIA/Real_time_face_recognition/face_dataset/data/val', exist_ok=True)\n",
        "os.makedirs('/content/drive/MyDrive/ProjetIA/Real_time_face_recognition/face_dataset/data/test', exist_ok=True)"
      ],
      "metadata": {
        "id": "8Cv6ZRtsa_3m"
      },
      "execution_count": 11,
      "outputs": []
    },
    {
      "cell_type": "code",
      "source": [
        "# Pourcentages de séparation\n",
        "train_size = 0.6\n",
        "test_size = 0.2\n",
        "validation_size = 0.2"
      ],
      "metadata": {
        "id": "GfgK6mLQdJAh"
      },
      "execution_count": 12,
      "outputs": []
    },
    {
      "cell_type": "code",
      "source": [
        "\n",
        "for cls in classes_dir:\n",
        "    # Chemin vers le dossier spécifique de la classe\n",
        "    src_dir = os.path.join(root_dir, cls)\n",
        "\n",
        "    # Obtenir la liste des fichiers\n",
        "    files = [file for file in os.listdir(src_dir) if file.endswith('.jpg') or file.endswith('.jpeg')or file.endswith('.png')]\n",
        "\n",
        "    # Séparer le jeu de données\n",
        "    train_files, test_files = train_test_split(files, train_size=train_size, random_state=42)\n",
        "    val_files, test_files = train_test_split(test_files, test_size=0.5, random_state=42)  # Divise le reste en deux pour val et test\n",
        "\n",
        "    # Créer des sous-dossiers dans train, val, test\n",
        "    for folder in ['train', 'val', 'test']:\n",
        "        os.makedirs(f'/content/drive/MyDrive/ProjetIA/Real_time_face_recognition/face_dataset/data/{folder}/{cls}', exist_ok=True)\n",
        "\n",
        "    # Fonction pour copier les fichiers\n",
        "    def copy_files(files, src_dir, dest_dir):\n",
        "        for file in files:\n",
        "            src_file_path = os.path.join(src_dir, file)\n",
        "            dest_file_path = os.path.join(dest_dir, file)\n",
        "            shutil.copy(src_file_path, dest_file_path)\n",
        "\n",
        "    # Copier les fichiers\n",
        "    copy_files(train_files, src_dir, f'/content/drive/MyDrive/ProjetIA/Real_time_face_recognition/face_dataset/data/train/{cls}')\n",
        "    copy_files(val_files, src_dir, f'/content/drive/MyDrive/ProjetIA/Real_time_face_recognition/face_dataset/data/val/{cls}')\n",
        "    copy_files(test_files, src_dir, f'/content/drive/MyDrive/ProjetIA/Real_time_face_recognition/face_dataset/data/test/{cls}')"
      ],
      "metadata": {
        "id": "4yWrZc_ubDWF"
      },
      "execution_count": 15,
      "outputs": []
    },
    {
      "cell_type": "markdown",
      "source": [
        "# Pré-Visualisation"
      ],
      "metadata": {
        "id": "_xUxI1iPbOhI"
      }
    },
    {
      "cell_type": "code",
      "source": [],
      "metadata": {
        "id": "Ho5hqe6MbIAg"
      },
      "execution_count": null,
      "outputs": []
    },
    {
      "cell_type": "markdown",
      "source": [
        "# Detection de visage"
      ],
      "metadata": {
        "id": "ITFaCSLNbWKP"
      }
    },
    {
      "cell_type": "code",
      "source": [
        "\n",
        "# Charger le modèle pré-entraîné pour la détection de visage d'OpenCV\n",
        "face_cascade = cv2.CascadeClassifier(cv2.data.haarcascades + 'haarcascade_frontalface_default.xml')"
      ],
      "metadata": {
        "id": "Q2-ZEztTbX9W"
      },
      "execution_count": null,
      "outputs": []
    },
    {
      "cell_type": "code",
      "source": [
        "# Fonction pour détecter et sauvegarder les visages d'une image\n",
        "def save_detected_faces(src_path, dst_path, file_name):\n",
        "    image = cv2.imread(src_path)\n",
        "    if image is not None:\n",
        "      gray = cv2.cvtColor(image, cv2.COLOR_BGR2GRAY)\n",
        "      faces = face_cascade.detectMultiScale(gray, scaleFactor=1.1, minNeighbors=5, minSize=(30, 30))\n",
        "\n",
        "      for i, (x, y, w, h) in enumerate(faces):\n",
        "        roi_color = image[y:y+h, x:x+w]\n",
        "        if not os.path.exists(dst_path):\n",
        "            os.makedirs(dst_path)\n",
        "        cv2.imwrite(os.path.join(dst_path, f\"{i}_{file_name}\"), roi_color)\n",
        "      else:  print(f\" image non valide from {src_path}\")"
      ],
      "metadata": {
        "id": "ZXyKPLVTbj7Y"
      },
      "execution_count": null,
      "outputs": []
    },
    {
      "cell_type": "code",
      "source": [
        "# Fonction pour parcourir les ensembles de données et appliquer la détection\n",
        "def process_dataset(data_type):\n",
        "    data_dir = f'/content/drive/MyDrive/ProjetIA/Real_time_face_recognition/data/{data_type}'\n",
        "    for root, dirs, files in os.walk(data_dir):\n",
        "        for file in files:\n",
        "            if file.lower().endswith(('.png', '.jpg', '.jpeg')):\n",
        "                src_path = os.path.join(root, file)\n",
        "                dst_path = root.replace(f'/content/drive/MyDrive/ProjetIA/Real_time_face_recognition/data/{data_type}', f'/content/drive/MyDrive/ProjetIA/Real_time_face_recognition/detected_faces/{data_type}')\n",
        "                # print('src_path',src_path)\n",
        "                # print('dst_pat' ,dst_path)\n",
        "                save_detected_faces(src_path, dst_path, file)"
      ],
      "metadata": {
        "id": "oIb9lcySbn4T"
      },
      "execution_count": null,
      "outputs": []
    },
    {
      "cell_type": "code",
      "source": [
        "# Appliquer la détection pour chaque ensemble\n",
        "for data_type in ['train', 'val', 'test']:\n",
        "    process_dataset(data_type)"
      ],
      "metadata": {
        "id": "LsJqt3h3brft"
      },
      "execution_count": null,
      "outputs": []
    }
  ]
}