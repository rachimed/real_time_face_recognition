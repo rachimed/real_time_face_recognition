{
  "cells": [
    {
      "cell_type": "code",
      "execution_count": null,
      "metadata": {
        "id": "1y58G_QJNqq4"
      },
      "outputs": [],
      "source": [
        "#pip install keras_vggface\n"
      ]
    },
    {
      "cell_type": "code",
      "execution_count": null,
      "metadata": {
        "id": "k96DBR1SQ9-H"
      },
      "outputs": [],
      "source": [
        "#%pip install git+https://github.com/ufukbakan/keras-vggface-tensorflow-2.git"
      ]
    },
    {
      "cell_type": "code",
      "execution_count": 2,
      "metadata": {
        "id": "af0Zue9A0mVM"
      },
      "outputs": [],
      "source": [
        "import os\n",
        "import cv2\n",
        "import shutil\n",
        "\n",
        "import matplotlib.pyplot as plt\n",
        "import seaborn as sns\n",
        "import numpy as np\n",
        "import tensorflow as tf\n",
        "from sklearn.model_selection import train_test_split\n",
        "from tensorflow.keras.preprocessing.image import ImageDataGenerator\n",
        "from tensorflow.keras.models import Sequential\n",
        "from tensorflow.keras.layers import Dense, Dropout, Flatten, GlobalAveragePooling2D\n",
        "\n",
        "# from keras_vggface import utils\n",
        "# from keras_vggface.vggface import VGGFace"
      ]
    },
    {
      "cell_type": "markdown",
      "metadata": {
        "id": "WnwCz_D6A2s3"
      },
      "source": [
        "# Charger le dataset"
      ]
    },
    {
      "cell_type": "code",
      "execution_count": 3,
      "metadata": {
        "colab": {
          "base_uri": "https://localhost:8080/"
        },
        "id": "VYS3Yix_A7EV",
        "outputId": "7cfc6946-ff06-4d94-d704-3410592ada31"
      },
      "outputs": [
        {
          "output_type": "stream",
          "name": "stdout",
          "text": [
            "Mounted at /content/drive\n"
          ]
        }
      ],
      "source": [
        "from google.colab import drive\n",
        "drive.mount('/content/drive')\n"
      ]
    },
    {
      "cell_type": "markdown",
      "metadata": {
        "id": "0JSo6rA8A6d8"
      },
      "source": []
    },
    {
      "cell_type": "code",
      "execution_count": 7,
      "metadata": {
        "id": "JaA_c2CB5-eS"
      },
      "outputs": [],
      "source": [
        "# Chemin vers le dossier contenant les dossiers de célébrités\n",
        "root_dir= '/content/drive/MyDrive/ProjetIA/Real_time_face_recognition/face_dataset/dataset'\n",
        "classes_dir = os.listdir(root_dir)"
      ]
    },
    {
      "cell_type": "markdown",
      "source": [
        "# Réorganiser le dataset en train, val et dir"
      ],
      "metadata": {
        "id": "NzZ7O48-QPvF"
      }
    },
    {
      "cell_type": "code",
      "source": [
        "# Créer les dossiers de destination s'ils n'existent pas déjà\n",
        "os.makedirs('/content/drive/MyDrive/ProjetIA/Real_time_face_recognition/face_dataset/data/train', exist_ok=True)\n",
        "os.makedirs('/content/drive/MyDrive/ProjetIA/Real_time_face_recognition/face_dataset/data/val', exist_ok=True)\n",
        "os.makedirs('/content/drive/MyDrive/ProjetIA/Real_time_face_recognition/face_datset/data/test', exist_ok=True)"
      ],
      "metadata": {
        "id": "g46-eVARQWw9"
      },
      "execution_count": 8,
      "outputs": []
    },
    {
      "cell_type": "code",
      "execution_count": null,
      "metadata": {
        "id": "IoVTbQiv6Fh-"
      },
      "outputs": [],
      "source": [
        "# train_dir = 'root/train'\n",
        "# val_dir = 'root/val'\n",
        "# test_dir = 'root/test'"
      ]
    },
    {
      "cell_type": "code",
      "execution_count": 9,
      "metadata": {
        "id": "ZV-2i9WKl4JT"
      },
      "outputs": [],
      "source": [
        "train_dir = '/content/drive/MyDrive/ProjetIA/Real_time_face_recognition/face_dataset/data/train'\n",
        "val_dir = '/content/drive/MyDrive/ProjetIA/Real_time_face_recognition/face_dataset/data/val'\n",
        "test_dir = '/content/drive/MyDrive/ProjetIA/Real_time_face_recognition/face_dataset/data/test'"
      ]
    },
    {
      "cell_type": "code",
      "execution_count": 5,
      "metadata": {
        "colab": {
          "base_uri": "https://localhost:8080/"
        },
        "id": "sBz9OML0lfLb",
        "outputId": "2646529a-ea3c-414e-eb5e-b510b8b00ec4"
      },
      "outputs": [
        {
          "output_type": "execute_result",
          "data": {
            "text/plain": [
              "80"
            ]
          },
          "metadata": {},
          "execution_count": 5
        }
      ],
      "source": [
        "len(val_dir)\n"
      ]
    },
    {
      "cell_type": "code",
      "execution_count": null,
      "metadata": {
        "colab": {
          "base_uri": "https://localhost:8080/"
        },
        "id": "1EhIKKB26T1U",
        "outputId": "bb4d4c6a-8fb0-4173-e26f-8f819e615f69"
      },
      "outputs": [
        {
          "data": {
            "text/plain": [
              "79"
            ]
          },
          "execution_count": 59,
          "metadata": {},
          "output_type": "execute_result"
        }
      ],
      "source": [
        "len(train_dir)"
      ]
    },
    {
      "cell_type": "code",
      "execution_count": null,
      "metadata": {
        "colab": {
          "base_uri": "https://localhost:8080/"
        },
        "id": "DHcX17nz6Yid",
        "outputId": "1b203a7f-4907-42f5-bc5c-eda1aa08bfbf"
      },
      "outputs": [
        {
          "data": {
            "text/plain": [
              "78"
            ]
          },
          "execution_count": 60,
          "metadata": {},
          "output_type": "execute_result"
        }
      ],
      "source": [
        "len(test_dir)"
      ]
    },
    {
      "cell_type": "code",
      "execution_count": null,
      "metadata": {
        "id": "aHCUs-Xo66WI"
      },
      "outputs": [],
      "source": []
    },
    {
      "cell_type": "markdown",
      "metadata": {
        "id": "eDOesxvEF2Jg"
      },
      "source": [
        "# Pré-Visualisation"
      ]
    },
    {
      "cell_type": "code",
      "execution_count": 10,
      "metadata": {
        "id": "V5uOE6oOqDyZ",
        "colab": {
          "base_uri": "https://localhost:8080/"
        },
        "outputId": "2a3518ef-94fd-4cab-cc7a-5238bd802557"
      },
      "outputs": [
        {
          "output_type": "execute_result",
          "data": {
            "text/plain": [
              "['User.1', 'User.2', 'User.3', 'User.4', 'User.5', 'User.6', 'User.7']"
            ]
          },
          "metadata": {},
          "execution_count": 10
        }
      ],
      "source": [
        "classes_train = os.listdir(train_dir)\n",
        "classes_train.sort()\n",
        "classes_train"
      ]
    },
    {
      "cell_type": "code",
      "execution_count": 11,
      "metadata": {
        "id": "aWgy1u1Z8CQx",
        "colab": {
          "base_uri": "https://localhost:8080/"
        },
        "outputId": "aec58d4c-4d4a-4342-9353-4df116f04708"
      },
      "outputs": [
        {
          "output_type": "execute_result",
          "data": {
            "text/plain": [
              "['User.1', 'User.2', 'User.3', 'User.4', 'User.5', 'User.6', 'User.7']"
            ]
          },
          "metadata": {},
          "execution_count": 11
        }
      ],
      "source": [
        "classes_test = os.listdir(test_dir)\n",
        "classes_test.sort()\n",
        "classes_test"
      ]
    },
    {
      "cell_type": "code",
      "execution_count": 12,
      "metadata": {
        "id": "cNHMjtQS85I5",
        "colab": {
          "base_uri": "https://localhost:8080/"
        },
        "outputId": "a0450332-db1d-4367-8229-236024e4dbf7"
      },
      "outputs": [
        {
          "output_type": "execute_result",
          "data": {
            "text/plain": [
              "['User.1', 'User.2', 'User.3', 'User.4', 'User.5', 'User.6', 'User.7']"
            ]
          },
          "metadata": {},
          "execution_count": 12
        }
      ],
      "source": [
        "classes_val = os.listdir(val_dir)\n",
        "classes_val.sort()\n",
        "classes_val"
      ]
    },
    {
      "cell_type": "code",
      "execution_count": 9,
      "metadata": {
        "colab": {
          "base_uri": "https://localhost:8080/"
        },
        "id": "uI7nEjD58lNW",
        "outputId": "810e3055-9c27-45a4-d803-5c2e3c1c3dfd"
      },
      "outputs": [
        {
          "output_type": "stream",
          "name": "stdout",
          "text": [
            "Items in classes_train that are not in classes_val:\n"
          ]
        }
      ],
      "source": [
        "list = [classes_val, classes_test, classes_train]\n",
        "\n",
        "\n",
        "# Utiliser la compréhension de liste pour trouver les éléments uniques à classes_train\n",
        "unique_to_train = [item for item in classes_train if item not in classes_val]\n",
        "\n",
        "# Afficher les éléments uniques\n",
        "print(\"Items in classes_train that are not in classes_val:\")\n",
        "for item in unique_to_train:\n",
        "    print(item)\n",
        "\n",
        "\n"
      ]
    },
    {
      "cell_type": "code",
      "execution_count": 10,
      "metadata": {
        "colab": {
          "base_uri": "https://localhost:8080/"
        },
        "id": "sP-T1hT6-jLq",
        "outputId": "faa1e37a-aa4a-46e9-f6ed-790b727a93a8"
      },
      "outputs": [
        {
          "output_type": "execute_result",
          "data": {
            "text/plain": [
              "7"
            ]
          },
          "metadata": {},
          "execution_count": 10
        }
      ],
      "source": [
        "len(classes_val)"
      ]
    },
    {
      "cell_type": "code",
      "execution_count": 11,
      "metadata": {
        "colab": {
          "base_uri": "https://localhost:8080/"
        },
        "id": "WD9tApDz_AAT",
        "outputId": "5ef036bd-6a9b-4390-e9fb-41347021ce98"
      },
      "outputs": [
        {
          "output_type": "execute_result",
          "data": {
            "text/plain": [
              "7"
            ]
          },
          "metadata": {},
          "execution_count": 11
        }
      ],
      "source": [
        "len(classes_train)"
      ]
    },
    {
      "cell_type": "code",
      "execution_count": 12,
      "metadata": {
        "colab": {
          "base_uri": "https://localhost:8080/"
        },
        "id": "XMeCeVte_Dai",
        "outputId": "f1da8788-579d-4353-9b6d-860a7fc0684e"
      },
      "outputs": [
        {
          "output_type": "execute_result",
          "data": {
            "text/plain": [
              "7"
            ]
          },
          "metadata": {},
          "execution_count": 12
        }
      ],
      "source": [
        "len(classes_test)"
      ]
    },
    {
      "cell_type": "markdown",
      "metadata": {
        "id": "_zTdK2PS7clY"
      },
      "source": [
        "# Nettoyage"
      ]
    },
    {
      "cell_type": "code",
      "execution_count": 15,
      "metadata": {
        "id": "3JvacRvl7bjh"
      },
      "outputs": [],
      "source": [
        "\n",
        "# Charger le modèle pré-entraîné pour la détection de visage d'OpenCV\n",
        "face_cascade = cv2.CascadeClassifier(cv2.data.haarcascades + '/content/drive/MyDrive/ProjetIA/Real_time_face_recognition/Haarcascades/haarcascade_frontalface_default.xml')\n",
        "\n",
        "def clean_non_faces(dir):\n",
        "    for subdir, dirs, files in os.walk(dir):\n",
        "        for file in files:\n",
        "            file_path = os.path.join(subdir, file)\n",
        "            image = cv2.imread(file_path)\n",
        "            faces = face_cascade.detectMultiScale(image, scaleFactor=1.1, minNeighbors=5, minSize=(30, 30))\n",
        "            if len(faces) == 0:\n",
        "                os.remove(file_path)  # Deletes the file\n",
        "                print(f\"Deleted {file_path} -  pas de face detecté.\")\n",
        "\n",
        "\n",
        "for data in ['train_dir', 'val_dir', 'test_dir']:\n",
        "    clean_non_faces(data)\n"
      ]
    },
    {
      "cell_type": "markdown",
      "metadata": {
        "id": "VLk2fuLyBSve"
      },
      "source": []
    },
    {
      "cell_type": "code",
      "execution_count": 17,
      "metadata": {
        "id": "bhhOqMi8F3GE"
      },
      "outputs": [],
      "source": [
        "\n",
        "# Charger le model\n",
        "# configFile = \"/content/drive/MyDrive/ProjetIA/Real_time_face_recognition/models/opencv_face_detector.pbtxt\"\n",
        "# modelFile = \"/content/drive/MyDrive/ProjetIA/Real_time_face_recognition/models/opencv_face_detector_uint8.pb\"\n",
        "\n",
        "modelFile = \"/content/drive/MyDrive/ProjetIA/Real_time_face_recognition/models/deploy.prototxt.txt\"\n",
        "configFile = \"/content/drive/MyDrive/ProjetIA/Real_time_face_recognition/models/res10_300x300_ssd_iter_140000_fp16.caffemodel\"\n",
        "\n",
        "net = cv2.dnn.readNetFromCaffe(modelFile, configFile)\n",
        "\n",
        "#net = cv2.dnn.readNetFromTensorflow(modelFile, configFile)\n",
        "\n",
        "\n",
        "\n",
        "def clean_non_faces(dir):\n",
        "    for subdir, dirs, files in os.walk(dir):\n",
        "        for file in files:\n",
        "            file_path = os.path.join(subdir, file)\n",
        "            image = cv2.imread(file_path)\n",
        "\n",
        "            # Create a blob and pass it through the model\n",
        "            # blob = cv2.dnn.blobFromImage(cv2.resize(image, (300, 300)), 1.0,\n",
        "            #                              (300, 300), (104.0, 177.0, 123.0))\n",
        "\n",
        "            blob = cv2.dnn.blobFromImage(image,1,(300,300),(104,177,123),swapRB=False)\n",
        "\n",
        "            net.setInput(blob)\n",
        "            detections = net.forward()\n",
        "\n",
        "            h,w = image.shape[:2]\n",
        "            for i in range(0,detections.shape[2]):\n",
        "                confidence = detections[0,0,i,2]\n",
        "                if confidence >= 0.5:\n",
        "                    #print(confidence)\n",
        "                    # bounding box (3:7)\n",
        "                    box = detections[0,0,i,3:7] # normalized bounding box values\n",
        "                    box = box*np.array([w,h,w,h])\n",
        "                    box = box.astype(int)\n",
        "                    startx, starty , endx, endy = box\n",
        "                    # draw the rectangle\n",
        "                    cv2.rectangle(image,(startx,starty),(endx,endy),(0,255,0))\n",
        "\n",
        "                    # put text\n",
        "                    text = 'Face: {:.2f} %'.format(confidence*100)\n",
        "                    cv2.putText(image,text,(startx,starty-10),cv2.FONT_HERSHEY_PLAIN,1,(255,255,255),)\n",
        "\n",
        "\n",
        "            # If no faces are detected\n",
        "            if len(detections) == 0:\n",
        "                os.remove(file_path)  # Deletes the file\n",
        "                print(f\"Deleted {file_path} - no face detected.\")\n",
        "\n",
        "\n"
      ]
    },
    {
      "cell_type": "code",
      "execution_count": 18,
      "metadata": {
        "id": "6mheZpKDijIO"
      },
      "outputs": [],
      "source": [
        " #Clean non-face images\n",
        "clean_non_faces(train_dir)\n",
        "clean_non_faces(val_dir)\n",
        "clean_non_faces(test_dir)\n"
      ]
    },
    {
      "cell_type": "markdown",
      "metadata": {
        "id": "9T7bz5MnEy78"
      },
      "source": [
        "# Création du modele"
      ]
    },
    {
      "cell_type": "code",
      "execution_count": 13,
      "metadata": {
        "colab": {
          "base_uri": "https://localhost:8080/"
        },
        "id": "ozt6bVDfE3vO",
        "outputId": "f436b25c-fbdf-4782-8872-34d9501171d0"
      },
      "outputs": [
        {
          "output_type": "stream",
          "name": "stdout",
          "text": [
            "Found 128 images belonging to 7 classes.\n",
            "Found 43 images belonging to 7 classes.\n",
            "Found 43 images belonging to 7 classes.\n"
          ]
        }
      ],
      "source": [
        "\n",
        "# Taille des images attendue\n",
        "image_size = (250, 250)\n",
        "\n",
        "\n",
        "\n",
        "# Création des générateurs d'images avec prétraitement de VGGFace\n",
        "\n",
        "train_datagen = ImageDataGenerator(\n",
        "    rescale=1. / 255,\n",
        "    shear_range=0.2,\n",
        "    zoom_range=0.2,\n",
        "    horizontal_flip=True\n",
        ")\n",
        "\n",
        "val_datagen = ImageDataGenerator(\n",
        "   rescale=1. / 255\n",
        ")\n",
        "\n",
        "test_datagen = ImageDataGenerator(rescale=1. / 255)\n",
        "\n",
        "# Gnénerateur data\n",
        "train_generator = train_datagen.flow_from_directory(\n",
        "    train_dir,\n",
        "    target_size=image_size,\n",
        "    batch_size=16,\n",
        "    class_mode='categorical',\n",
        "    )\n",
        "\n",
        "val_generator = val_datagen.flow_from_directory(\n",
        "    val_dir,\n",
        "    target_size=image_size,\n",
        "    batch_size=16,\n",
        "    class_mode='categorical',\n",
        "    )\n",
        "\n",
        "test_generator = test_datagen.flow_from_directory(\n",
        "    test_dir,\n",
        "    target_size=image_size,\n",
        "    batch_size=16,\n",
        "    class_mode='categorical',\n",
        "    shuffle=False ) #ne pas mélanger l'ordre des images afin de faciliter la vérification\n",
        "\n"
      ]
    },
    {
      "cell_type": "code",
      "execution_count": null,
      "metadata": {
        "id": "QgPYiNmjhS6j"
      },
      "outputs": [],
      "source": []
    },
    {
      "cell_type": "code",
      "execution_count": 14,
      "metadata": {
        "id": "zeurE0utV7k_",
        "colab": {
          "base_uri": "https://localhost:8080/",
          "height": 391
        },
        "outputId": "db2816bf-f4ae-4419-cf12-40fae12460af"
      },
      "outputs": [
        {
          "output_type": "error",
          "ename": "ValueError",
          "evalue": "ignored",
          "traceback": [
            "\u001b[0;31m---------------------------------------------------------------------------\u001b[0m",
            "\u001b[0;31mValueError\u001b[0m                                Traceback (most recent call last)",
            "\u001b[0;32m<ipython-input-14-1be5f58ddf0f>\u001b[0m in \u001b[0;36m<cell line: 11>\u001b[0;34m()\u001b[0m\n\u001b[1;32m      9\u001b[0m \u001b[0mmodel\u001b[0m\u001b[0;34m.\u001b[0m\u001b[0mlayers\u001b[0m\u001b[0;34m.\u001b[0m\u001b[0mpop\u001b[0m\u001b[0;34m(\u001b[0m\u001b[0;34m)\u001b[0m  \u001b[0;31m# Supprime la dernière couche\u001b[0m\u001b[0;34m\u001b[0m\u001b[0;34m\u001b[0m\u001b[0m\n\u001b[1;32m     10\u001b[0m \u001b[0mnew_output_layer\u001b[0m \u001b[0;34m=\u001b[0m \u001b[0mDense\u001b[0m\u001b[0;34m(\u001b[0m\u001b[0mlen\u001b[0m\u001b[0;34m(\u001b[0m\u001b[0mclasses_train\u001b[0m\u001b[0;34m)\u001b[0m\u001b[0;34m,\u001b[0m \u001b[0mactivation\u001b[0m\u001b[0;34m=\u001b[0m\u001b[0;34m'softmax'\u001b[0m\u001b[0;34m)\u001b[0m\u001b[0;34m(\u001b[0m\u001b[0mmodel\u001b[0m\u001b[0;34m.\u001b[0m\u001b[0mlayers\u001b[0m\u001b[0;34m[\u001b[0m\u001b[0;34m-\u001b[0m\u001b[0;36m1\u001b[0m\u001b[0;34m]\u001b[0m\u001b[0;34m.\u001b[0m\u001b[0moutput\u001b[0m\u001b[0;34m)\u001b[0m\u001b[0;34m\u001b[0m\u001b[0;34m\u001b[0m\u001b[0m\n\u001b[0;32m---> 11\u001b[0;31m \u001b[0mmodel\u001b[0m \u001b[0;34m=\u001b[0m \u001b[0mModel\u001b[0m\u001b[0;34m(\u001b[0m\u001b[0minputs\u001b[0m\u001b[0;34m=\u001b[0m\u001b[0mmodel\u001b[0m\u001b[0;34m.\u001b[0m\u001b[0minputs\u001b[0m\u001b[0;34m,\u001b[0m \u001b[0moutputs\u001b[0m\u001b[0;34m=\u001b[0m\u001b[0mnew_output_layer\u001b[0m\u001b[0;34m)\u001b[0m\u001b[0;34m\u001b[0m\u001b[0;34m\u001b[0m\u001b[0m\n\u001b[0m\u001b[1;32m     12\u001b[0m \u001b[0;34m\u001b[0m\u001b[0m\n\u001b[1;32m     13\u001b[0m \u001b[0;34m\u001b[0m\u001b[0m\n",
            "\u001b[0;32m/usr/local/lib/python3.10/dist-packages/tensorflow/python/trackable/base.py\u001b[0m in \u001b[0;36m_method_wrapper\u001b[0;34m(self, *args, **kwargs)\u001b[0m\n\u001b[1;32m    202\u001b[0m     \u001b[0mself\u001b[0m\u001b[0;34m.\u001b[0m\u001b[0m_self_setattr_tracking\u001b[0m \u001b[0;34m=\u001b[0m \u001b[0;32mFalse\u001b[0m  \u001b[0;31m# pylint: disable=protected-access\u001b[0m\u001b[0;34m\u001b[0m\u001b[0;34m\u001b[0m\u001b[0m\n\u001b[1;32m    203\u001b[0m     \u001b[0;32mtry\u001b[0m\u001b[0;34m:\u001b[0m\u001b[0;34m\u001b[0m\u001b[0;34m\u001b[0m\u001b[0m\n\u001b[0;32m--> 204\u001b[0;31m       \u001b[0mresult\u001b[0m \u001b[0;34m=\u001b[0m \u001b[0mmethod\u001b[0m\u001b[0;34m(\u001b[0m\u001b[0mself\u001b[0m\u001b[0;34m,\u001b[0m \u001b[0;34m*\u001b[0m\u001b[0margs\u001b[0m\u001b[0;34m,\u001b[0m \u001b[0;34m**\u001b[0m\u001b[0mkwargs\u001b[0m\u001b[0;34m)\u001b[0m\u001b[0;34m\u001b[0m\u001b[0;34m\u001b[0m\u001b[0m\n\u001b[0m\u001b[1;32m    205\u001b[0m     \u001b[0;32mfinally\u001b[0m\u001b[0;34m:\u001b[0m\u001b[0;34m\u001b[0m\u001b[0;34m\u001b[0m\u001b[0m\n\u001b[1;32m    206\u001b[0m       \u001b[0mself\u001b[0m\u001b[0;34m.\u001b[0m\u001b[0m_self_setattr_tracking\u001b[0m \u001b[0;34m=\u001b[0m \u001b[0mprevious_value\u001b[0m  \u001b[0;31m# pylint: disable=protected-access\u001b[0m\u001b[0;34m\u001b[0m\u001b[0;34m\u001b[0m\u001b[0m\n",
            "\u001b[0;32m/usr/local/lib/python3.10/dist-packages/keras/src/engine/functional.py\u001b[0m in \u001b[0;36m__init__\u001b[0;34m(self, inputs, outputs, name, trainable, **kwargs)\u001b[0m\n\u001b[1;32m    164\u001b[0m                     \u001b[0minputs\u001b[0m\u001b[0;34m,\u001b[0m \u001b[0moutputs\u001b[0m\u001b[0;34m\u001b[0m\u001b[0;34m\u001b[0m\u001b[0m\n\u001b[1;32m    165\u001b[0m                 )\n\u001b[0;32m--> 166\u001b[0;31m         \u001b[0mself\u001b[0m\u001b[0;34m.\u001b[0m\u001b[0m_init_graph_network\u001b[0m\u001b[0;34m(\u001b[0m\u001b[0minputs\u001b[0m\u001b[0;34m,\u001b[0m \u001b[0moutputs\u001b[0m\u001b[0;34m)\u001b[0m\u001b[0;34m\u001b[0m\u001b[0;34m\u001b[0m\u001b[0m\n\u001b[0m\u001b[1;32m    167\u001b[0m \u001b[0;34m\u001b[0m\u001b[0m\n\u001b[1;32m    168\u001b[0m     \u001b[0;34m@\u001b[0m\u001b[0mtf\u001b[0m\u001b[0;34m.\u001b[0m\u001b[0m__internal__\u001b[0m\u001b[0;34m.\u001b[0m\u001b[0mtracking\u001b[0m\u001b[0;34m.\u001b[0m\u001b[0mno_automatic_dependency_tracking\u001b[0m\u001b[0;34m\u001b[0m\u001b[0;34m\u001b[0m\u001b[0m\n",
            "\u001b[0;32m/usr/local/lib/python3.10/dist-packages/tensorflow/python/trackable/base.py\u001b[0m in \u001b[0;36m_method_wrapper\u001b[0;34m(self, *args, **kwargs)\u001b[0m\n\u001b[1;32m    202\u001b[0m     \u001b[0mself\u001b[0m\u001b[0;34m.\u001b[0m\u001b[0m_self_setattr_tracking\u001b[0m \u001b[0;34m=\u001b[0m \u001b[0;32mFalse\u001b[0m  \u001b[0;31m# pylint: disable=protected-access\u001b[0m\u001b[0;34m\u001b[0m\u001b[0;34m\u001b[0m\u001b[0m\n\u001b[1;32m    203\u001b[0m     \u001b[0;32mtry\u001b[0m\u001b[0;34m:\u001b[0m\u001b[0;34m\u001b[0m\u001b[0;34m\u001b[0m\u001b[0m\n\u001b[0;32m--> 204\u001b[0;31m       \u001b[0mresult\u001b[0m \u001b[0;34m=\u001b[0m \u001b[0mmethod\u001b[0m\u001b[0;34m(\u001b[0m\u001b[0mself\u001b[0m\u001b[0;34m,\u001b[0m \u001b[0;34m*\u001b[0m\u001b[0margs\u001b[0m\u001b[0;34m,\u001b[0m \u001b[0;34m**\u001b[0m\u001b[0mkwargs\u001b[0m\u001b[0;34m)\u001b[0m\u001b[0;34m\u001b[0m\u001b[0;34m\u001b[0m\u001b[0m\n\u001b[0m\u001b[1;32m    205\u001b[0m     \u001b[0;32mfinally\u001b[0m\u001b[0;34m:\u001b[0m\u001b[0;34m\u001b[0m\u001b[0;34m\u001b[0m\u001b[0m\n\u001b[1;32m    206\u001b[0m       \u001b[0mself\u001b[0m\u001b[0;34m.\u001b[0m\u001b[0m_self_setattr_tracking\u001b[0m \u001b[0;34m=\u001b[0m \u001b[0mprevious_value\u001b[0m  \u001b[0;31m# pylint: disable=protected-access\u001b[0m\u001b[0;34m\u001b[0m\u001b[0;34m\u001b[0m\u001b[0m\n",
            "\u001b[0;32m/usr/local/lib/python3.10/dist-packages/keras/src/engine/functional.py\u001b[0m in \u001b[0;36m_init_graph_network\u001b[0;34m(self, inputs, outputs)\u001b[0m\n\u001b[1;32m    263\u001b[0m \u001b[0;34m\u001b[0m\u001b[0m\n\u001b[1;32m    264\u001b[0m         \u001b[0;31m# Keep track of the network's nodes and layers.\u001b[0m\u001b[0;34m\u001b[0m\u001b[0;34m\u001b[0m\u001b[0m\n\u001b[0;32m--> 265\u001b[0;31m         nodes, nodes_by_depth, layers, _ = _map_graph_network(\n\u001b[0m\u001b[1;32m    266\u001b[0m             \u001b[0mself\u001b[0m\u001b[0;34m.\u001b[0m\u001b[0minputs\u001b[0m\u001b[0;34m,\u001b[0m \u001b[0mself\u001b[0m\u001b[0;34m.\u001b[0m\u001b[0moutputs\u001b[0m\u001b[0;34m\u001b[0m\u001b[0;34m\u001b[0m\u001b[0m\n\u001b[1;32m    267\u001b[0m         )\n",
            "\u001b[0;32m/usr/local/lib/python3.10/dist-packages/keras/src/engine/functional.py\u001b[0m in \u001b[0;36m_map_graph_network\u001b[0;34m(inputs, outputs)\u001b[0m\n\u001b[1;32m   1158\u001b[0m     \u001b[0;32mfor\u001b[0m \u001b[0mname\u001b[0m \u001b[0;32min\u001b[0m \u001b[0mall_names\u001b[0m\u001b[0;34m:\u001b[0m\u001b[0;34m\u001b[0m\u001b[0;34m\u001b[0m\u001b[0m\n\u001b[1;32m   1159\u001b[0m         \u001b[0;32mif\u001b[0m \u001b[0mall_names\u001b[0m\u001b[0;34m.\u001b[0m\u001b[0mcount\u001b[0m\u001b[0;34m(\u001b[0m\u001b[0mname\u001b[0m\u001b[0;34m)\u001b[0m \u001b[0;34m!=\u001b[0m \u001b[0;36m1\u001b[0m\u001b[0;34m:\u001b[0m\u001b[0;34m\u001b[0m\u001b[0;34m\u001b[0m\u001b[0m\n\u001b[0;32m-> 1160\u001b[0;31m             raise ValueError(\n\u001b[0m\u001b[1;32m   1161\u001b[0m                 \u001b[0;34mf'The name \"{name}\" is used {all_names.count(name)} '\u001b[0m\u001b[0;34m\u001b[0m\u001b[0;34m\u001b[0m\u001b[0m\n\u001b[1;32m   1162\u001b[0m                 \u001b[0;34m\"times in the model. All layer names should be unique.\"\u001b[0m\u001b[0;34m\u001b[0m\u001b[0;34m\u001b[0m\u001b[0m\n",
            "\u001b[0;31mValueError\u001b[0m: The name \"dense\" is used 2 times in the model. All layer names should be unique."
          ]
        }
      ],
      "source": [
        "from tensorflow.keras.models import load_model\n",
        "from tensorflow.keras.layers import Dense\n",
        "from tensorflow.keras.models import Model\n",
        "\n",
        "# Chargement du modèle précedent\n",
        "model = load_model('/content/drive/MyDrive/ProjetIA/Real_time_face_recognition/face_recognition2plus.h5')\n",
        "\n",
        "#  couche dense finale nommée 'predictions'\n",
        "model.layers.pop()  # Supprime la dernière couche\n",
        "new_output_layer = Dense(len(classes_train), activation='softmax')(model.layers[-1].output)\n",
        "model = Model(inputs=model.inputs, outputs=new_output_layer)\n",
        "\n",
        "\n",
        "model.compile(optimizer='adam', loss='categorical_crossentropy', metrics=['accuracy'])\n",
        "\n",
        "# # Congeler les couches du modèle de base pour l'entraînement\n",
        "# for layer in base_model.layers:\n",
        "#     layer.trainable = False\n",
        "\n",
        "# # Compilation du modèle\n",
        "# model1.compile(optimizer='adam', loss='categorical_crossentropy', metrics=['accuracy'])\n"
      ]
    },
    {
      "cell_type": "code",
      "execution_count": 27,
      "metadata": {
        "id": "MUQIE_eUFJZ4",
        "colab": {
          "base_uri": "https://localhost:8080/"
        },
        "outputId": "64352c6e-db35-45d7-c50f-9378f33e88a7"
      },
      "outputs": [
        {
          "output_type": "stream",
          "name": "stdout",
          "text": [
            "Epoch 1/50\n",
            "8/8 [==============================] - 20s 658ms/step - loss: 1.9320 - accuracy: 0.1875 - val_loss: 1.9086 - val_accuracy: 0.3125\n",
            "Epoch 2/50\n",
            "8/8 [==============================] - 3s 322ms/step - loss: 1.9247 - accuracy: 0.2031 - val_loss: 1.8824 - val_accuracy: 0.4688\n",
            "Epoch 3/50\n",
            "8/8 [==============================] - 2s 297ms/step - loss: 1.9062 - accuracy: 0.2969 - val_loss: 1.8740 - val_accuracy: 0.4688\n",
            "Epoch 4/50\n",
            "8/8 [==============================] - 4s 486ms/step - loss: 1.8963 - accuracy: 0.2891 - val_loss: 1.8483 - val_accuracy: 0.5625\n",
            "Epoch 5/50\n",
            "8/8 [==============================] - 4s 448ms/step - loss: 1.8814 - accuracy: 0.3672 - val_loss: 1.8392 - val_accuracy: 0.5312\n",
            "Epoch 6/50\n",
            "8/8 [==============================] - 2s 313ms/step - loss: 1.8668 - accuracy: 0.4297 - val_loss: 1.8413 - val_accuracy: 0.5312\n",
            "Epoch 7/50\n",
            "8/8 [==============================] - 2s 307ms/step - loss: 1.8676 - accuracy: 0.3906 - val_loss: 1.8348 - val_accuracy: 0.5625\n",
            "Epoch 8/50\n",
            "8/8 [==============================] - 2s 291ms/step - loss: 1.8533 - accuracy: 0.4453 - val_loss: 1.8129 - val_accuracy: 0.6562\n",
            "Epoch 9/50\n",
            "8/8 [==============================] - 4s 506ms/step - loss: 1.8323 - accuracy: 0.4844 - val_loss: 1.8066 - val_accuracy: 0.6562\n",
            "Epoch 10/50\n",
            "8/8 [==============================] - 4s 496ms/step - loss: 1.8386 - accuracy: 0.4297 - val_loss: 1.8003 - val_accuracy: 0.7188\n",
            "Epoch 11/50\n",
            "8/8 [==============================] - 2s 299ms/step - loss: 1.8129 - accuracy: 0.4844 - val_loss: 1.7700 - val_accuracy: 0.5938\n",
            "Epoch 12/50\n",
            "8/8 [==============================] - 2s 310ms/step - loss: 1.7969 - accuracy: 0.5469 - val_loss: 1.7558 - val_accuracy: 0.6250\n",
            "Epoch 13/50\n",
            "8/8 [==============================] - 3s 314ms/step - loss: 1.7995 - accuracy: 0.4688 - val_loss: 1.7757 - val_accuracy: 0.4688\n",
            "Epoch 14/50\n",
            "8/8 [==============================] - 2s 308ms/step - loss: 1.8015 - accuracy: 0.4844 - val_loss: 1.7432 - val_accuracy: 0.5938\n",
            "Epoch 15/50\n",
            "8/8 [==============================] - 4s 510ms/step - loss: 1.8083 - accuracy: 0.4844 - val_loss: 1.7187 - val_accuracy: 0.6562\n",
            "Epoch 16/50\n",
            "8/8 [==============================] - 4s 429ms/step - loss: 1.7549 - accuracy: 0.5938 - val_loss: 1.7144 - val_accuracy: 0.6562\n",
            "Epoch 17/50\n",
            "8/8 [==============================] - 2s 310ms/step - loss: 1.7419 - accuracy: 0.6094 - val_loss: 1.7002 - val_accuracy: 0.6875\n",
            "Epoch 18/50\n",
            "8/8 [==============================] - 2s 294ms/step - loss: 1.7137 - accuracy: 0.6406 - val_loss: 1.6694 - val_accuracy: 0.7188\n",
            "Epoch 19/50\n",
            "8/8 [==============================] - 2s 301ms/step - loss: 1.7418 - accuracy: 0.5078 - val_loss: 1.6980 - val_accuracy: 0.6875\n",
            "Epoch 20/50\n",
            "8/8 [==============================] - 3s 378ms/step - loss: 1.7012 - accuracy: 0.6484 - val_loss: 1.6732 - val_accuracy: 0.5938\n",
            "Epoch 21/50\n",
            "8/8 [==============================] - 3s 343ms/step - loss: 1.6963 - accuracy: 0.6484 - val_loss: 1.6553 - val_accuracy: 0.7188\n",
            "Epoch 22/50\n",
            "8/8 [==============================] - 3s 330ms/step - loss: 1.6979 - accuracy: 0.6328 - val_loss: 1.6276 - val_accuracy: 0.7500\n",
            "Epoch 23/50\n",
            "8/8 [==============================] - 3s 315ms/step - loss: 1.6599 - accuracy: 0.6953 - val_loss: 1.6202 - val_accuracy: 0.7188\n",
            "Epoch 24/50\n",
            "8/8 [==============================] - 3s 440ms/step - loss: 1.6397 - accuracy: 0.6953 - val_loss: 1.6110 - val_accuracy: 0.7812\n",
            "Epoch 25/50\n",
            "8/8 [==============================] - 4s 435ms/step - loss: 1.6356 - accuracy: 0.6797 - val_loss: 1.5989 - val_accuracy: 0.7812\n",
            "Epoch 26/50\n",
            "8/8 [==============================] - 2s 296ms/step - loss: 1.6246 - accuracy: 0.7266 - val_loss: 1.5875 - val_accuracy: 0.7188\n",
            "Epoch 27/50\n",
            "8/8 [==============================] - 3s 334ms/step - loss: 1.6311 - accuracy: 0.6875 - val_loss: 1.5514 - val_accuracy: 0.8125\n",
            "Epoch 28/50\n",
            "8/8 [==============================] - 3s 362ms/step - loss: 1.6109 - accuracy: 0.7109 - val_loss: 1.5568 - val_accuracy: 0.7188\n",
            "Epoch 29/50\n",
            "8/8 [==============================] - 4s 481ms/step - loss: 1.5982 - accuracy: 0.7109 - val_loss: 1.5532 - val_accuracy: 0.7500\n",
            "Epoch 30/50\n",
            "8/8 [==============================] - 3s 318ms/step - loss: 1.5772 - accuracy: 0.7266 - val_loss: 1.5349 - val_accuracy: 0.7500\n",
            "Epoch 31/50\n",
            "8/8 [==============================] - 2s 307ms/step - loss: 1.5590 - accuracy: 0.7422 - val_loss: 1.5249 - val_accuracy: 0.7500\n",
            "Epoch 32/50\n",
            "8/8 [==============================] - 3s 351ms/step - loss: 1.5533 - accuracy: 0.7109 - val_loss: 1.5169 - val_accuracy: 0.7812\n",
            "Epoch 33/50\n",
            "8/8 [==============================] - 4s 501ms/step - loss: 1.5340 - accuracy: 0.7734 - val_loss: 1.4975 - val_accuracy: 0.7812\n",
            "Epoch 34/50\n",
            "8/8 [==============================] - 3s 367ms/step - loss: 1.5385 - accuracy: 0.7344 - val_loss: 1.4844 - val_accuracy: 0.8125\n",
            "Epoch 35/50\n",
            "8/8 [==============================] - 6s 713ms/step - loss: 1.4976 - accuracy: 0.7891 - val_loss: 1.4710 - val_accuracy: 0.7812\n",
            "Epoch 36/50\n",
            "8/8 [==============================] - 4s 481ms/step - loss: 1.5061 - accuracy: 0.7344 - val_loss: 1.4615 - val_accuracy: 0.7500\n",
            "Epoch 37/50\n",
            "8/8 [==============================] - 3s 313ms/step - loss: 1.4778 - accuracy: 0.7578 - val_loss: 1.4496 - val_accuracy: 0.8125\n",
            "Epoch 38/50\n",
            "8/8 [==============================] - 2s 295ms/step - loss: 1.4814 - accuracy: 0.7344 - val_loss: 1.4618 - val_accuracy: 0.7500\n",
            "Epoch 39/50\n",
            "8/8 [==============================] - 4s 463ms/step - loss: 1.4618 - accuracy: 0.7656 - val_loss: 1.4429 - val_accuracy: 0.7500\n",
            "Epoch 40/50\n",
            "8/8 [==============================] - 9s 1s/step - loss: 1.4567 - accuracy: 0.7812 - val_loss: 1.4097 - val_accuracy: 0.8125\n",
            "Epoch 41/50\n",
            "8/8 [==============================] - 3s 315ms/step - loss: 1.4428 - accuracy: 0.7578 - val_loss: 1.4477 - val_accuracy: 0.6875\n",
            "Epoch 42/50\n",
            "8/8 [==============================] - 3s 318ms/step - loss: 1.4569 - accuracy: 0.7344 - val_loss: 1.4224 - val_accuracy: 0.7500\n",
            "Epoch 43/50\n",
            "8/8 [==============================] - 3s 317ms/step - loss: 1.4307 - accuracy: 0.7422 - val_loss: 1.4254 - val_accuracy: 0.7500\n",
            "Epoch 44/50\n",
            "8/8 [==============================] - 4s 479ms/step - loss: 1.4353 - accuracy: 0.7422 - val_loss: 1.4076 - val_accuracy: 0.7188\n",
            "Epoch 45/50\n",
            "8/8 [==============================] - 3s 328ms/step - loss: 1.4004 - accuracy: 0.7578 - val_loss: 1.3882 - val_accuracy: 0.7500\n",
            "Epoch 46/50\n",
            "8/8 [==============================] - 2s 310ms/step - loss: 1.4206 - accuracy: 0.7500 - val_loss: 1.3736 - val_accuracy: 0.7500\n",
            "Epoch 47/50\n",
            "8/8 [==============================] - 2s 298ms/step - loss: 1.3846 - accuracy: 0.7812 - val_loss: 1.3661 - val_accuracy: 0.7812\n",
            "Epoch 48/50\n",
            "8/8 [==============================] - 3s 320ms/step - loss: 1.3694 - accuracy: 0.7656 - val_loss: 1.3339 - val_accuracy: 0.8125\n",
            "Epoch 49/50\n",
            "8/8 [==============================] - 6s 628ms/step - loss: 1.3833 - accuracy: 0.7734 - val_loss: 1.3382 - val_accuracy: 0.7812\n",
            "Epoch 50/50\n",
            "8/8 [==============================] - 4s 439ms/step - loss: 1.3499 - accuracy: 0.7734 - val_loss: 1.3040 - val_accuracy: 0.8125\n"
          ]
        }
      ],
      "source": [
        "# Entraînement du modèle\n",
        "history1 = model.fit(\n",
        "    train_generator,\n",
        "    steps_per_epoch=train_generator.samples // train_generator.batch_size,\n",
        "    validation_data=val_generator,\n",
        "    validation_steps=val_generator.samples // val_generator.batch_size,\n",
        "    epochs=50\n",
        ")\n"
      ]
    },
    {
      "cell_type": "code",
      "source": [
        "# Évaluer le modèle sur l'ensemble de test\n",
        "test_loss, test_accuracy = model.evaluate(test_generator)\n",
        "print(f\"Test Accuracy: {test_accuracy * 100:.2f}%\")"
      ],
      "metadata": {
        "colab": {
          "base_uri": "https://localhost:8080/"
        },
        "id": "CeF7LjFPbkaH",
        "outputId": "ee3a5371-3179-4d3a-83ab-f7e1da52e037"
      },
      "execution_count": 28,
      "outputs": [
        {
          "output_type": "stream",
          "name": "stdout",
          "text": [
            "3/3 [==============================] - 1s 630ms/step - loss: 1.3191 - accuracy: 0.8372\n",
            "Test Accuracy: 83.72%\n"
          ]
        }
      ]
    },
    {
      "cell_type": "code",
      "source": [
        "# Visualisation\n",
        "plt.plot(history1.history['accuracy'])\n",
        "plt.plot(history1.history['val_accuracy'])\n",
        "plt.title('Accuracy')\n",
        "plt.ylabel('Accuracy')\n",
        "plt.xlabel('46')\n",
        "plt.legend(['Train', 'Val'], loc='upper left')\n",
        "plt.show()"
      ],
      "metadata": {
        "colab": {
          "base_uri": "https://localhost:8080/",
          "height": 472
        },
        "id": "LdZqEBsWboGI",
        "outputId": "0ebf5db6-9f70-4e33-c4d8-9937669288e8"
      },
      "execution_count": 29,
      "outputs": [
        {
          "output_type": "display_data",
          "data": {
            "text/plain": [
              "<Figure size 640x480 with 1 Axes>"
            ],
            "image/png": "[encoded data removed]"
          },
          "metadata": {}
        }
      ]
    },
    {
      "cell_type": "code",
      "execution_count": 31,
      "metadata": {
        "id": "svDt5JXEWfDX",
        "colab": {
          "base_uri": "https://localhost:8080/"
        },
        "outputId": "bdb7634d-ec91-43fb-bf04-dd142d3184de"
      },
      "outputs": [
        {
          "output_type": "stream",
          "name": "stderr",
          "text": [
            "/usr/local/lib/python3.10/dist-packages/keras/src/engine/training.py:3079: UserWarning: You are saving your model as an HDF5 file via `model.save()`. This file format is considered legacy. We recommend using instead the native Keras format, e.g. `model.save('my_model.keras')`.\n",
            "  saving_api.save_model(\n"
          ]
        }
      ],
      "source": [
        "model.save('face_recognise.h5')"
      ]
    },
    {
      "cell_type": "code",
      "execution_count": 30,
      "metadata": {
        "colab": {
          "base_uri": "https://localhost:8080/"
        },
        "id": "12bWDuzpjUaq",
        "outputId": "315a5059-93f2-4411-8b2d-041a0c7f4087"
      },
      "outputs": [
        {
          "output_type": "stream",
          "name": "stdout",
          "text": [
            "Model: \"model_1\"\n",
            "_________________________________________________________________\n",
            " Layer (type)                Output Shape              Param #   \n",
            "=================================================================\n",
            " inception_v3_input (InputL  [(None, 250, 250, 3)]     0         \n",
            " ayer)                                                           \n",
            "                                                                 \n",
            " inception_v3 (Functional)   (None, 2048)              21802784  \n",
            "                                                                 \n",
            " flatten (Flatten)           (None, 2048)              0         \n",
            "                                                                 \n",
            " dense (Dense)               (None, 1024)              2098176   \n",
            "                                                                 \n",
            " dropout (Dropout)           (None, 1024)              0         \n",
            "                                                                 \n",
            " dense_1 (Dense)             (None, 98)                100450    \n",
            "                                                                 \n",
            " dense_3 (Dense)             (None, 7)                 693       \n",
            "                                                                 \n",
            "=================================================================\n",
            "Total params: 24002103 (91.56 MB)\n",
            "Trainable params: 2199319 (8.39 MB)\n",
            "Non-trainable params: 21802784 (83.17 MB)\n",
            "_________________________________________________________________\n"
          ]
        }
      ],
      "source": [
        "model.summary()"
      ]
    },
    {
      "cell_type": "code",
      "source": [
        "from tensorflow.keras.applications.inception_v3 import preprocess_input\n",
        "# Créer le générateur pour l'ensemble de test\n",
        "test_datagen = ImageDataGenerator(preprocessing_function=preprocess_input)\n",
        "\n",
        "test_generator = test_datagen.flow_from_directory(\n",
        "    test_dir,\n",
        "    target_size=(250, 250),\n",
        "    batch_size=16,\n",
        "    class_mode='categorical',\n",
        "    shuffle=False  # Important pour la correspondance des prédictions et des étiquettes\n",
        ")"
      ],
      "metadata": {
        "colab": {
          "base_uri": "https://localhost:8080/"
        },
        "id": "iu3QlSQquy2T",
        "outputId": "6743a0ef-ddd3-41ff-b34b-e9ab542bd83d"
      },
      "execution_count": 21,
      "outputs": [
        {
          "output_type": "stream",
          "name": "stdout",
          "text": [
            "Found 43 images belonging to 7 classes.\n"
          ]
        }
      ]
    },
    {
      "cell_type": "code",
      "source": [
        "# test de prediction:\n",
        "from PIL import Image\n",
        "from tensorflow.keras.applications.inception_v3 import preprocess_input\n",
        "from tensorflow.keras.models import load_model\n",
        "from tensorflow.keras.preprocessing.image import  img_to_array\n",
        "\n",
        "\n",
        "# Chemin vers le modèle sauvegardé et le dossier de validation\n",
        "model_path = '/content/drive/MyDrive/ProjetIA/Real_time_face_recognition/face_dataset/face_recognise.h5' # model\n",
        "file_path1 = '/content/drive/MyDrive/ProjetIA/Real_time_face_recognition/face_dataset/data/test/User.1/1.1.jpg'\n",
        "file_path2 = '/content/drive/MyDrive/ProjetIA/Real_time_face_recognition/face_dataset/dataset/User.3/3.10.jpg'\n",
        "file_path3 = '/content/drive/MyDrive/ProjetIA/Real_time_face_recognition/face_dataset/dataset/User.5/6.3.jpg'\n",
        "file_path4 = '/content/drive/MyDrive/ProjetIA/Real_time_face_recognition/face_dataset/dataset/User.5/7.27.jpg'\n",
        "file_path5 = '/content/drive/MyDrive/ProjetIA/Real_time_face_recognition/face_dataset/dataset/User.7/9.10.jpg'\n",
        "\n",
        "model = load_model(model_path)\n",
        "\n",
        "# Taille des images attendue par le modèle\n",
        "image_size = (250,250)\n",
        "\n",
        "def load_and_preprocess_image(file_path, target_size=image_size):\n",
        "    # Charger l'image avec PIL\n",
        "    img = Image.open(file_path).convert('RGB')\n",
        "    img = img.resize(target_size)\n",
        "    img_array = np.array(img)\n",
        "    # Ajouter une dimension de batch\n",
        "    img_array = np.expand_dims(img_array, axis=0)\n",
        "    img_processed =  preprocess_input(img_array)\n",
        "\n",
        "    return img_processed\n",
        "\n",
        "image1 = load_and_preprocess_image(file_path1)\n",
        "prediction1 = model.predict(image1)\n",
        "\n",
        "image2 = load_and_preprocess_image(file_path2)\n",
        "prediction2 = model.predict(image2)\n",
        "\n",
        "image3 = load_and_preprocess_image(file_path3)\n",
        "prediction3 = model.predict(image3)\n",
        "\n",
        "image4 = load_and_preprocess_image(file_path4)\n",
        "prediction4 = model.predict(image4)\n",
        "\n",
        "image5 = load_and_preprocess_image(file_path5)\n",
        "prediction5 = model.predict(image5)"
      ],
      "metadata": {
        "id": "2Bb25SITF3U1",
        "colab": {
          "base_uri": "https://localhost:8080/"
        },
        "outputId": "39a7b326-3c58-4af7-c113-dab47c2723cb"
      },
      "execution_count": 25,
      "outputs": [
        {
          "output_type": "stream",
          "name": "stdout",
          "text": [
            "1/1 [==============================] - 11s 11s/step\n",
            "1/1 [==============================] - 0s 32ms/step\n",
            "1/1 [==============================] - 0s 28ms/step\n",
            "1/1 [==============================] - 0s 27ms/step\n",
            "1/1 [==============================] - 0s 42ms/step\n"
          ]
        }
      ]
    },
    {
      "cell_type": "code",
      "source": [
        "np.argmax(prediction1)\n"
      ],
      "metadata": {
        "colab": {
          "base_uri": "https://localhost:8080/"
        },
        "id": "4NIsKf--Go_C",
        "outputId": "52ee5bb7-43cd-4736-b220-9fda76485325"
      },
      "execution_count": 26,
      "outputs": [
        {
          "output_type": "execute_result",
          "data": {
            "text/plain": [
              "1"
            ]
          },
          "metadata": {},
          "execution_count": 26
        }
      ]
    },
    {
      "cell_type": "code",
      "source": [
        "np.argmax(prediction2)"
      ],
      "metadata": {
        "colab": {
          "base_uri": "https://localhost:8080/"
        },
        "id": "SwN-DrlZIV6N",
        "outputId": "fb96f713-5291-4136-9a75-9f3bcdd87e4b"
      },
      "execution_count": 27,
      "outputs": [
        {
          "output_type": "execute_result",
          "data": {
            "text/plain": [
              "2"
            ]
          },
          "metadata": {},
          "execution_count": 27
        }
      ]
    },
    {
      "cell_type": "code",
      "source": [
        "np.argmax(prediction3)"
      ],
      "metadata": {
        "colab": {
          "base_uri": "https://localhost:8080/"
        },
        "id": "VI_DwaQmK1X3",
        "outputId": "4807e75a-bf72-4be9-d96b-a2c48b699ad3"
      },
      "execution_count": 28,
      "outputs": [
        {
          "output_type": "execute_result",
          "data": {
            "text/plain": [
              "4"
            ]
          },
          "metadata": {},
          "execution_count": 28
        }
      ]
    },
    {
      "cell_type": "code",
      "source": [
        "np.argmax(prediction4)"
      ],
      "metadata": {
        "colab": {
          "base_uri": "https://localhost:8080/"
        },
        "id": "dGf0xzzANnho",
        "outputId": "2980d828-6be3-40d1-ea9f-886217a168b1"
      },
      "execution_count": 29,
      "outputs": [
        {
          "output_type": "execute_result",
          "data": {
            "text/plain": [
              "4"
            ]
          },
          "metadata": {},
          "execution_count": 29
        }
      ]
    },
    {
      "cell_type": "code",
      "source": [
        "np.argmax(prediction5)"
      ],
      "metadata": {
        "colab": {
          "base_uri": "https://localhost:8080/"
        },
        "id": "yEoSWOwCON9J",
        "outputId": "82bcd588-d8a0-4554-f56a-5fef2746b0b9"
      },
      "execution_count": 30,
      "outputs": [
        {
          "output_type": "execute_result",
          "data": {
            "text/plain": [
              "5"
            ]
          },
          "metadata": {},
          "execution_count": 30
        }
      ]
    },
    {
      "cell_type": "code",
      "source": [
        "# Prédire les classes des images avec le modèle\n",
        "predictions = model.predict(test_generator, steps=len(test_generator), verbose=1)\n"
      ],
      "metadata": {
        "id": "7xDJ2IoSFNdX",
        "colab": {
          "base_uri": "https://localhost:8080/"
        },
        "outputId": "348b4e8a-5f62-4897-f8b3-3aad5e2b9a3a"
      },
      "execution_count": null,
      "outputs": [
        {
          "output_type": "stream",
          "name": "stdout",
          "text": [
            "38/38 [==============================] - 10s 230ms/step\n"
          ]
        }
      ]
    },
    {
      "cell_type": "code",
      "source": [
        "# Obtenir les étiquettes de classe prédites\n",
        "predicted_classes = np.argmax(predictions, axis=1)"
      ],
      "metadata": {
        "id": "X5avtKIof8mh"
      },
      "execution_count": null,
      "outputs": []
    },
    {
      "cell_type": "code",
      "source": [
        "# Vraies étiquettes\n",
        "true_classes = test_generator.classes\n",
        "\n",
        "# Calcul de l'accuracy\n",
        "accuracy = np.mean(predicted_classes == true_classes)\n",
        "print(f\"Test Accuracy : {accuracy*100:.2f}%\")\n"
      ],
      "metadata": {
        "id": "y5DgtnEIgBN1",
        "colab": {
          "base_uri": "https://localhost:8080/"
        },
        "outputId": "204c345d-d51d-4d13-ee0e-84ddc8a286a4"
      },
      "execution_count": null,
      "outputs": [
        {
          "output_type": "stream",
          "name": "stdout",
          "text": [
            "Test Accuracy : 35.69%\n"
          ]
        }
      ]
    },
    {
      "cell_type": "code",
      "execution_count": null,
      "metadata": {
        "id": "wg974fGWHedA",
        "colab": {
          "base_uri": "https://localhost:8080/"
        },
        "outputId": "37453230-6eb2-41fc-d7f0-8f039080a56c"
      },
      "outputs": [
        {
          "output_type": "stream",
          "name": "stdout",
          "text": [
            "Accuracy: 0.01430976430976431\n",
            "Recall: 0.01430976430976431\n",
            "Precision: 0.01430976430976431\n",
            "F1 Score: 0.01430976430976431\n"
          ]
        }
      ],
      "source": [
        "from sklearn.metrics import classification_report, confusion_matrix\n",
        "\n",
        "y_true = test_generator.classes  # étiquettes réelles\n",
        "\n",
        "y_pred = predicted_classes\n",
        "y_pred = (y_pred > 0.5).astype(int)\n",
        "\n",
        "from sklearn.metrics import accuracy_score, recall_score, precision_score, f1_score, roc_auc_score\n",
        "\n",
        "# Calcul de la précision\n",
        "accuracy = accuracy_score(y_true, y_pred)\n",
        "\n",
        "# Calcul du rappel (sensibilité)\n",
        "recall = recall_score(y_true, y_pred, average='micro')\n",
        "\n",
        "# Calcul de la précision\n",
        "precision = precision_score(y_true, y_pred, average='micro')\n",
        "\n",
        "# Calcul du score F1\n",
        "f1 = f1_score(y_true, y_pred, average='micro')\n",
        "\n",
        "\n",
        "print(f'Accuracy: {accuracy}')\n",
        "print(f'Recall: {recall}')\n",
        "print(f'Precision: {precision}')\n",
        "print(f'F1 Score: {f1}')\n",
        "\n",
        "\n",
        "# # Afficher la matrice de confusion\n",
        "# conf_matrix = confusion_matrix(true_classes, predicted_classes)\n",
        "# print(conf_matrix)\n",
        "\n",
        "# # Afficher le rapport de classification\n",
        "# report = classification_report(true_classes, predicted_classes, target_names=class_labels)\n",
        "# print(report)\n"
      ]
    },
    {
      "cell_type": "markdown",
      "source": [
        "# Conclusion\n",
        "Choix du modèle: Le model2 basé sur InceptionV3 possède une accuracy d'environ 50% et une val_accuracy qui dépasse 54%, ce qui est insuffisant pour identifier correctement les images. En revanche le modèle a reussi à identifier correctement toutes les images testées prélevées de test_dir."
      ],
      "metadata": {
        "id": "c9-QLUy5Ot-K"
      }
    },
    {
      "cell_type": "code",
      "execution_count": null,
      "metadata": {
        "id": "XyDyFAsDH-wq"
      },
      "outputs": [],
      "source": []
    },
    {
      "cell_type": "markdown",
      "source": [
        "\n",
        "\n",
        "---\n",
        "\n"
      ],
      "metadata": {
        "id": "Ht_EiB93Oo7_"
      }
    }
  ],
  "metadata": {
    "accelerator": "GPU",
    "colab": {
      "provenance": []
    },
    "kernelspec": {
      "display_name": "Python 3",
      "name": "python3"
    },
    "language_info": {
      "name": "python"
    }
  },
  "nbformat": 4,
  "nbformat_minor": 0
}