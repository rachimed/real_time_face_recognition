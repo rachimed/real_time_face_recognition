{
  "cells": [
    {
      "cell_type": "code",
      "execution_count": null,
      "metadata": {
        "id": "1y58G_QJNqq4"
      },
      "outputs": [],
      "source": [
        "#pip install keras_vggface\n"
      ]
    },
    {
      "cell_type": "code",
      "execution_count": null,
      "metadata": {
        "id": "k96DBR1SQ9-H"
      },
      "outputs": [],
      "source": [
        "#%pip install git+https://github.com/ufukbakan/keras-vggface-tensorflow-2.git"
      ]
    },
    {
      "cell_type": "code",
      "execution_count": 1,
      "metadata": {
        "id": "af0Zue9A0mVM"
      },
      "outputs": [],
      "source": [
        "import os\n",
        "import cv2\n",
        "import shutil\n",
        "\n",
        "import matplotlib.pyplot as plt\n",
        "import seaborn as sns\n",
        "import numpy as np\n",
        "import tensorflow as tf\n",
        "from sklearn.model_selection import train_test_split\n",
        "from tensorflow.keras.preprocessing.image import ImageDataGenerator\n",
        "from tensorflow.keras.models import Sequential\n",
        "from tensorflow.keras.layers import Dense, Dropout, Flatten\n",
        "\n",
        "# from keras_vggface import utils\n",
        "# from keras_vggface.vggface import VGGFace"
      ]
    },
    {
      "cell_type": "markdown",
      "metadata": {
        "id": "WnwCz_D6A2s3"
      },
      "source": [
        "# Charger le dataset"
      ]
    },
    {
      "cell_type": "code",
      "execution_count": 2,
      "metadata": {
        "colab": {
          "base_uri": "https://localhost:8080/"
        },
        "id": "VYS3Yix_A7EV",
        "outputId": "062e6463-856b-4857-f704-69c1b5b1306c"
      },
      "outputs": [
        {
          "output_type": "stream",
          "name": "stdout",
          "text": [
            "Drive already mounted at /content/drive; to attempt to forcibly remount, call drive.mount(\"/content/drive\", force_remount=True).\n"
          ]
        }
      ],
      "source": [
        "from google.colab import drive\n",
        "drive.mount('/content/drive')\n"
      ]
    },
    {
      "cell_type": "markdown",
      "metadata": {
        "id": "0JSo6rA8A6d8"
      },
      "source": []
    },
    {
      "cell_type": "code",
      "execution_count": 3,
      "metadata": {
        "id": "JaA_c2CB5-eS"
      },
      "outputs": [],
      "source": [
        "# Chemin vers le dossier contenant les dossiers de célébrités\n",
        "root_dir= '/content/drive/MyDrive/ProjetIA/Real_time_face_recognition/face_dataset/dataset'\n",
        "classes_dir = os.listdir(root_dir)"
      ]
    },
    {
      "cell_type": "code",
      "source": [],
      "metadata": {
        "id": "nF23D9nEspu1"
      },
      "execution_count": null,
      "outputs": []
    },
    {
      "cell_type": "markdown",
      "source": [
        "# Réorganiser le dataset en train, val et dir"
      ],
      "metadata": {
        "id": "NzZ7O48-QPvF"
      }
    },
    {
      "cell_type": "code",
      "source": [
        "# Créer les dossiers de destination s'ils n'existent pas déjà\n",
        "os.makedirs('/content/drive/MyDrive/ProjetIA/Real_time_face_recognition/face_dataset/data/train', exist_ok=True)\n",
        "os.makedirs('/content/drive/MyDrive/ProjetIA/Real_time_face_recognition/face_dataset/data/val', exist_ok=True)\n",
        "os.makedirs('/content/drive/MyDrive/ProjetIA/Real_time_face_recognition/face_dataset/data/test', exist_ok=True)"
      ],
      "metadata": {
        "id": "g46-eVARQWw9"
      },
      "execution_count": null,
      "outputs": []
    },
    {
      "cell_type": "code",
      "execution_count": null,
      "metadata": {
        "id": "IoVTbQiv6Fh-"
      },
      "outputs": [],
      "source": [
        "# train_dir = 'root/train'\n",
        "# val_dir = 'root/val'\n",
        "# test_dir = 'root/test'"
      ]
    },
    {
      "cell_type": "code",
      "execution_count": 4,
      "metadata": {
        "id": "ZV-2i9WKl4JT"
      },
      "outputs": [],
      "source": [
        "train_dir = '/content/drive/MyDrive/ProjetIA/Real_time_face_recognition/face_dataset/data/train'\n",
        "val_dir = '/content/drive/MyDrive/ProjetIA/Real_time_face_recognition/face_dataset/data/val'\n",
        "test_dir = '/content/drive/MyDrive/ProjetIA/Real_time_face_recognition/face_dataset/data/test'"
      ]
    },
    {
      "cell_type": "code",
      "execution_count": null,
      "metadata": {
        "id": "aHCUs-Xo66WI"
      },
      "outputs": [],
      "source": [
        "# Pourcentages de séparation\n",
        "train_size = 0.8\n",
        "test_size = 0.1\n",
        "validation_size = 0.1"
      ]
    },
    {
      "cell_type": "code",
      "source": [
        "\n",
        "for cls in classes_dir:\n",
        "    # Chemin vers le dossier spécifique de la classe\n",
        "    src_dir = os.path.join(root_dir, cls)\n",
        "\n",
        "    # Obtenir la liste des fichiers\n",
        "    files = [file for file in os.listdir(src_dir) if file.endswith('.jpg') or file.endswith('.jpeg')or file.endswith('.png')]\n",
        "\n",
        "    # Séparer le jeu de données\n",
        "    train_files, test_files = train_test_split(files, train_size=train_size, random_state=42)\n",
        "    val_files, test_files = train_test_split(test_files, test_size=0.5, random_state=42)  # Divise le reste en deux pour val et test\n",
        "\n",
        "    # Créer des sous-dossiers dans train, val, test\n",
        "    for folder in ['train', 'val', 'test']:\n",
        "        os.makedirs(f'/content/drive/MyDrive/ProjetIA/Real_time_face_recognition/face_dataset/data/{folder}/{cls}', exist_ok=True)\n",
        "\n",
        "    # Fonction pour copier les fichiers\n",
        "    def copy_files(files, src_dir, dest_dir):\n",
        "        for file in files:\n",
        "            src_file_path = os.path.join(src_dir, file)\n",
        "            dest_file_path = os.path.join(dest_dir, file)\n",
        "\n",
        "            shutil.copy(src_file_path, dest_file_path)\n",
        "\n",
        "    # Copier les fichiers\n",
        "    copy_files(train_files, src_dir, f'/content/drive/MyDrive/ProjetIA/Real_time_face_recognition/face_dataset/data/train/{cls}')\n",
        "    copy_files(val_files, src_dir, f'/content/drive/MyDrive/ProjetIA/Real_time_face_recognition/face_dataset/data/val/{cls}')\n",
        "    copy_files(test_files, src_dir, f'/content/drive/MyDrive/ProjetIA/Real_time_face_recognition/face_dataset/data/test/{cls}')"
      ],
      "metadata": {
        "id": "Sz_o649mbG_f"
      },
      "execution_count": null,
      "outputs": []
    },
    {
      "cell_type": "markdown",
      "metadata": {
        "id": "eDOesxvEF2Jg"
      },
      "source": [
        "# Pré-Visualisation"
      ]
    },
    {
      "cell_type": "code",
      "execution_count": 5,
      "metadata": {
        "id": "V5uOE6oOqDyZ",
        "colab": {
          "base_uri": "https://localhost:8080/"
        },
        "outputId": "6c23756f-7c12-455b-d112-23cffa02c0f4"
      },
      "outputs": [
        {
          "output_type": "execute_result",
          "data": {
            "text/plain": [
              "['User.1',\n",
              " 'User.4',\n",
              " 'User.3',\n",
              " 'User.2',\n",
              " 'User.5',\n",
              " 'User.7',\n",
              " 'User.6',\n",
              " 'User.10',\n",
              " 'User.8',\n",
              " 'User.9']"
            ]
          },
          "metadata": {},
          "execution_count": 5
        }
      ],
      "source": [
        "classes_train = os.listdir(train_dir)\n",
        "classes_train\n"
      ]
    },
    {
      "cell_type": "code",
      "execution_count": 11,
      "metadata": {
        "id": "aWgy1u1Z8CQx",
        "colab": {
          "base_uri": "https://localhost:8080/"
        },
        "outputId": "d9d03673-48d6-4edc-f61a-88112c470a3d"
      },
      "outputs": [
        {
          "output_type": "execute_result",
          "data": {
            "text/plain": [
              "['User.1',\n",
              " 'User.4',\n",
              " 'User.3',\n",
              " 'User.2',\n",
              " 'User.5',\n",
              " 'User.7',\n",
              " 'User.6',\n",
              " 'User.10',\n",
              " 'User.8',\n",
              " 'User.9']"
            ]
          },
          "metadata": {},
          "execution_count": 11
        }
      ],
      "source": [
        "classes_test = os.listdir(test_dir)\n",
        "classes_test\n"
      ]
    },
    {
      "cell_type": "code",
      "execution_count": 10,
      "metadata": {
        "id": "cNHMjtQS85I5",
        "colab": {
          "base_uri": "https://localhost:8080/"
        },
        "outputId": "af7ce407-c4a5-4b34-f51e-9078b0950dc0"
      },
      "outputs": [
        {
          "output_type": "execute_result",
          "data": {
            "text/plain": [
              "['User.1',\n",
              " 'User.4',\n",
              " 'User.3',\n",
              " 'User.2',\n",
              " 'User.5',\n",
              " 'User.7',\n",
              " 'User.6',\n",
              " 'User.10',\n",
              " 'User.8',\n",
              " 'User.9']"
            ]
          },
          "metadata": {},
          "execution_count": 10
        }
      ],
      "source": [
        "classes_val = os.listdir(val_dir)\n",
        "\n",
        "classes_val"
      ]
    },
    {
      "cell_type": "code",
      "execution_count": null,
      "metadata": {
        "colab": {
          "base_uri": "https://localhost:8080/"
        },
        "id": "uI7nEjD58lNW",
        "outputId": "1898418a-93e3-4c49-bde4-7065077410f8"
      },
      "outputs": [
        {
          "output_type": "stream",
          "name": "stdout",
          "text": [
            "Items in classes_train that are not in classes_val:\n"
          ]
        }
      ],
      "source": [
        "list = [classes_val, classes_test, classes_train]\n",
        "\n",
        "\n",
        "# Utiliser la compréhension de liste pour trouver les éléments uniques à classes_train\n",
        "unique_to_train = [item for item in classes_train if item not in classes_val]\n",
        "\n",
        "# Afficher les éléments uniques\n",
        "print(\"Items in classes_train that are not in classes_val:\")\n",
        "for item in unique_to_train:\n",
        "    print(item)\n",
        "\n",
        "\n"
      ]
    },
    {
      "cell_type": "code",
      "execution_count": null,
      "metadata": {
        "colab": {
          "base_uri": "https://localhost:8080/"
        },
        "id": "sP-T1hT6-jLq",
        "outputId": "780f9db9-4014-4358-e4f6-c93e05373f2b"
      },
      "outputs": [
        {
          "output_type": "execute_result",
          "data": {
            "text/plain": [
              "10"
            ]
          },
          "metadata": {},
          "execution_count": 145
        }
      ],
      "source": [
        "len(classes_val)"
      ]
    },
    {
      "cell_type": "code",
      "execution_count": null,
      "metadata": {
        "colab": {
          "base_uri": "https://localhost:8080/"
        },
        "id": "WD9tApDz_AAT",
        "outputId": "9a80d465-5a02-42af-ee84-77f6d146c7d3"
      },
      "outputs": [
        {
          "output_type": "execute_result",
          "data": {
            "text/plain": [
              "10"
            ]
          },
          "metadata": {},
          "execution_count": 146
        }
      ],
      "source": [
        "len(classes_train)"
      ]
    },
    {
      "cell_type": "code",
      "execution_count": null,
      "metadata": {
        "colab": {
          "base_uri": "https://localhost:8080/"
        },
        "id": "XMeCeVte_Dai",
        "outputId": "85f090e9-74e1-4a35-feeb-901b3ef0e274"
      },
      "outputs": [
        {
          "output_type": "execute_result",
          "data": {
            "text/plain": [
              "10"
            ]
          },
          "metadata": {},
          "execution_count": 147
        }
      ],
      "source": [
        "len(classes_test)"
      ]
    },
    {
      "cell_type": "markdown",
      "metadata": {
        "id": "_zTdK2PS7clY"
      },
      "source": [
        "# Nettoyage"
      ]
    },
    {
      "cell_type": "code",
      "source": [],
      "metadata": {
        "id": "Va-X0C54sepr"
      },
      "execution_count": null,
      "outputs": []
    },
    {
      "cell_type": "code",
      "execution_count": null,
      "metadata": {
        "id": "3JvacRvl7bjh"
      },
      "outputs": [],
      "source": [
        "\n",
        "# Charger le modèle pré-entraîné pour la détection de visage d'OpenCV\n",
        "face_cascade = cv2.CascadeClassifier(cv2.data.haarcascades + '/content/drive/MyDrive/ProjetIA/Real_time_face_recognition/Haarcascades/haarcascade_frontalface_default.xml')\n",
        "\n",
        "def clean_non_faces(dir):\n",
        "    for subdir, dirs, files in os.walk(dir):\n",
        "        for file in files:\n",
        "            file_path = os.path.join(subdir, file)\n",
        "            image = cv2.imread(file_path)\n",
        "            faces = face_cascade.detectMultiScale(image, scaleFactor=1.1, minNeighbors=5, minSize=(30, 30))\n",
        "            if len(faces) == 0:\n",
        "                os.remove(file_path)  # Deletes the file\n",
        "                print(f\"Deleted {file_path} -  pas de face detecté.\")\n",
        "\n",
        "\n",
        "for data in ['train_dir', 'val_dir', 'test_dir']:\n",
        "    clean_non_faces(data)\n"
      ]
    },
    {
      "cell_type": "markdown",
      "metadata": {
        "id": "VLk2fuLyBSve"
      },
      "source": []
    },
    {
      "cell_type": "code",
      "execution_count": null,
      "metadata": {
        "id": "bhhOqMi8F3GE"
      },
      "outputs": [],
      "source": [
        "\n",
        "# Charger le model\n",
        "# configFile = \"/content/drive/MyDrive/ProjetIA/Real_time_face_recognition/models/opencv_face_detector.pbtxt\"\n",
        "# modelFile = \"/content/drive/MyDrive/ProjetIA/Real_time_face_recognition/models/opencv_face_detector_uint8.pb\"\n",
        "\n",
        "modelFile = \"/content/drive/MyDrive/ProjetIA/Real_time_face_recognition/models/deploy.prototxt.txt\"\n",
        "configFile = \"/content/drive/MyDrive/ProjetIA/Real_time_face_recognition/models/res10_300x300_ssd_iter_140000_fp16.caffemodel\"\n",
        "\n",
        "net = cv2.dnn.readNetFromCaffe(modelFile, configFile)\n",
        "\n",
        "#net = cv2.dnn.readNetFromTensorflow(modelFile, configFile)\n",
        "\n",
        "\n",
        "\n",
        "def clean_non_faces(dir):\n",
        "    for subdir, dirs, files in os.walk(dir):\n",
        "        for file in files:\n",
        "            file_path = os.path.join(subdir, file)\n",
        "            image = cv2.imread(file_path)\n",
        "\n",
        "            # Create a blob and pass it through the model\n",
        "            # blob = cv2.dnn.blobFromImage(cv2.resize(image, (300, 300)), 1.0,\n",
        "            #                              (300, 300), (104.0, 177.0, 123.0))\n",
        "\n",
        "            blob = cv2.dnn.blobFromImage(image,1,(300,300),(104,177,123),swapRB=False)\n",
        "\n",
        "            net.setInput(blob)\n",
        "            detections = net.forward()\n",
        "\n",
        "            h,w = image.shape[:2]\n",
        "            for i in range(0,detections.shape[2]):\n",
        "                confidence = detections[0,0,i,2]\n",
        "                if confidence >= 0.5:\n",
        "                    #print(confidence)\n",
        "                    # bounding box (3:7)\n",
        "                    box = detections[0,0,i,3:7] # normalized bounding box values\n",
        "                    box = box*np.array([w,h,w,h])\n",
        "                    box = box.astype(int)\n",
        "                    startx, starty , endx, endy = box\n",
        "                    # draw the rectangle\n",
        "                    cv2.rectangle(image,(startx,starty),(endx,endy),(0,255,0))\n",
        "\n",
        "                    # put text\n",
        "                    text = 'Face: {:.2f} %'.format(confidence*100)\n",
        "                    cv2.putText(image,text,(startx,starty-10),cv2.FONT_HERSHEY_PLAIN,1,(255,255,255),)\n",
        "\n",
        "\n",
        "            # If no faces are detected\n",
        "            if len(detections) == 0:\n",
        "                os.remove(file_path)  # Deletes the file\n",
        "                print(f\"Deleted {file_path} - no face detected.\")\n",
        "\n",
        "\n"
      ]
    },
    {
      "cell_type": "code",
      "execution_count": null,
      "metadata": {
        "id": "6mheZpKDijIO"
      },
      "outputs": [],
      "source": [
        " #Clean non-face images\n",
        "clean_non_faces(train_dir)\n",
        "clean_non_faces(val_dir)\n",
        "clean_non_faces(test_dir)\n"
      ]
    },
    {
      "cell_type": "markdown",
      "metadata": {
        "id": "9T7bz5MnEy78"
      },
      "source": [
        "# Création du modele"
      ]
    },
    {
      "cell_type": "code",
      "execution_count": 9,
      "metadata": {
        "colab": {
          "base_uri": "https://localhost:8080/"
        },
        "id": "ozt6bVDfE3vO",
        "outputId": "a75dc7b3-e007-4a08-f641-59b368db255a"
      },
      "outputs": [
        {
          "output_type": "stream",
          "name": "stdout",
          "text": [
            "Found 201 images belonging to 10 classes.\n",
            "Found 29 images belonging to 10 classes.\n",
            "Found 32 images belonging to 10 classes.\n"
          ]
        }
      ],
      "source": [
        "\n",
        "# Taille des images attendue\n",
        "image_size = (250, 250)\n",
        "\n",
        "\n",
        "\n",
        "# Création des générateurs d'images avec prétraitement de VGGFace\n",
        "\n",
        "train_datagen = ImageDataGenerator(\n",
        "    rescale=1. / 255,\n",
        "    #shear_range=0.2,\n",
        "    zoom_range=0.2,\n",
        "    rotation_range=10,\n",
        "    width_shift_range=0.1,\n",
        "    height_shift_range=0.1,\n",
        "    brightness_range=[0.8, 1.2],  # variations de luminosité\n",
        "    horizontal_flip=True,\n",
        "    #fill_mode='nearest'\n",
        ")\n",
        "\n",
        "val_datagen = ImageDataGenerator(\n",
        "   rescale=1. / 255\n",
        ")\n",
        "\n",
        "test_datagen = ImageDataGenerator(rescale=1. / 255)\n",
        "\n",
        "# Gnénerateur data\n",
        "train_generator = train_datagen.flow_from_directory(\n",
        "    train_dir,\n",
        "    target_size=image_size,\n",
        "    batch_size=32,\n",
        "    class_mode='categorical',\n",
        "    )\n",
        "\n",
        "val_generator = val_datagen.flow_from_directory(\n",
        "    val_dir,\n",
        "    target_size=image_size,\n",
        "    batch_size=16,\n",
        "    class_mode='categorical',\n",
        "    )\n",
        "\n",
        "test_generator = test_datagen.flow_from_directory(\n",
        "    test_dir,\n",
        "    target_size=image_size,\n",
        "    batch_size=16,\n",
        "    class_mode='categorical',\n",
        "    shuffle=False ) #ne pas mélanger l'ordre des images afin de faciliter la vérification\n",
        "\n"
      ]
    },
    {
      "cell_type": "code",
      "execution_count": null,
      "metadata": {
        "id": "QgPYiNmjhS6j"
      },
      "outputs": [],
      "source": []
    },
    {
      "cell_type": "code",
      "execution_count": null,
      "metadata": {
        "id": "zeurE0utV7k_"
      },
      "outputs": [],
      "source": [
        "from tensorflow.keras.models import load_model\n",
        "from tensorflow.keras.layers import Dense\n",
        "from tensorflow.keras.models import Model\n",
        "\n",
        "# Chargement du modèle précedent\n",
        "model = load_model('/content/drive/MyDrive/ProjetIA/Real_time_face_recognition/face_recognition2plus.h5')\n",
        "\n",
        "#  couche dense finale nommée 'predictions'\n",
        "model.layers.pop()  # Supprime la dernière couche\n",
        "new_output_layer = Dense(len(classes_train), activation='softmax', name='output_layer')(model.layers[-1].output)\n",
        "model = Model(inputs=model.inputs, outputs=new_output_layer)\n",
        "\n",
        "\n",
        "model.compile(optimizer='adam', loss='categorical_crossentropy', metrics=['accuracy'])\n",
        "\n",
        "# # Congeler les couches du modèle de base pour l'entraînement\n",
        "# for layer in base_model.layers:\n",
        "#     layer.trainable = False\n",
        "\n",
        "# # Compilation du modèle\n",
        "# model1.compile(optimizer='adam', loss='categorical_crossentropy', metrics=['accuracy'])\n"
      ]
    },
    {
      "cell_type": "code",
      "source": [],
      "metadata": {
        "id": "bGd6UVfn4YxQ"
      },
      "execution_count": null,
      "outputs": []
    },
    {
      "cell_type": "code",
      "execution_count": null,
      "metadata": {
        "id": "MUQIE_eUFJZ4"
      },
      "outputs": [],
      "source": [
        "# Entraînement du modèle\n",
        "history1 = model.fit(\n",
        "    train_generator,\n",
        "    steps_per_epoch=train_generator.samples // train_generator.batch_size,\n",
        "    validation_data=val_generator,\n",
        "    validation_steps=val_generator.samples // val_generator.batch_size,\n",
        "    epochs=50\n",
        ")\n"
      ]
    },
    {
      "cell_type": "code",
      "source": [
        "# Évaluer le modèle sur l'ensemble de test\n",
        "test_loss, test_accuracy = model.evaluate(test_generator)\n",
        "print(f\"Test Accuracy: {test_accuracy * 100:.2f}%\")"
      ],
      "metadata": {
        "colab": {
          "base_uri": "https://localhost:8080/"
        },
        "id": "CeF7LjFPbkaH",
        "outputId": "ee3a5371-3179-4d3a-83ab-f7e1da52e037"
      },
      "execution_count": null,
      "outputs": [
        {
          "output_type": "stream",
          "name": "stdout",
          "text": [
            "3/3 [==============================] - 1s 630ms/step - loss: 1.3191 - accuracy: 0.8372\n",
            "Test Accuracy: 83.72%\n"
          ]
        }
      ]
    },
    {
      "cell_type": "code",
      "source": [
        "# Visualisation\n",
        "plt.plot(history1.history['accuracy'])\n",
        "plt.plot(history1.history['val_accuracy'])\n",
        "plt.title('Accuracy')\n",
        "plt.ylabel('Accuracy')\n",
        "plt.xlabel('')\n",
        "plt.legend(['Train', 'Val'], loc='upper left')\n",
        "plt.show()"
      ],
      "metadata": {
        "colab": {
          "base_uri": "https://localhost:8080/",
          "height": 472
        },
        "id": "LdZqEBsWboGI",
        "outputId": "0ebf5db6-9f70-4e33-c4d8-9937669288e8"
      },
      "execution_count": null,
      "outputs": [
        {
          "output_type": "display_data",
          "data": {
            "text/plain": [
              "<Figure size 640x480 with 1 Axes>"
            ],
            "image/png": "[encoded data removed]"
          },
          "metadata": {}
        }
      ]
    },
    {
      "cell_type": "code",
      "source": [
        "# Entraînement du modèle augmenté\n",
        "history2 = model.fit(\n",
        "    train_generator,\n",
        "    steps_per_epoch=train_generator.samples // train_generator.batch_size,\n",
        "    validation_data=val_generator,\n",
        "    validation_steps=val_generator.samples // val_generator.batch_size,\n",
        "    epochs=50\n",
        ")"
      ],
      "metadata": {
        "colab": {
          "base_uri": "https://localhost:8080/"
        },
        "id": "OcB-pJmdmVJv",
        "outputId": "aaeabc51-5f7e-41a4-ecec-9af7609f5508"
      },
      "execution_count": null,
      "outputs": [
        {
          "output_type": "stream",
          "name": "stdout",
          "text": [
            "Epoch 1/50\n",
            "11/11 [==============================] - 13s 599ms/step - loss: 2.2978 - accuracy: 0.0994 - val_loss: 2.2735 - val_accuracy: 0.1667\n",
            "Epoch 2/50\n",
            "11/11 [==============================] - 4s 348ms/step - loss: 2.2906 - accuracy: 0.1242 - val_loss: 2.2678 - val_accuracy: 0.1250\n",
            "Epoch 3/50\n",
            "11/11 [==============================] - 6s 560ms/step - loss: 2.2728 - accuracy: 0.1801 - val_loss: 2.2554 - val_accuracy: 0.1250\n",
            "Epoch 4/50\n",
            "11/11 [==============================] - 4s 388ms/step - loss: 2.2764 - accuracy: 0.1591 - val_loss: 2.2326 - val_accuracy: 0.2708\n",
            "Epoch 5/50\n",
            "11/11 [==============================] - 5s 504ms/step - loss: 2.2714 - accuracy: 0.1591 - val_loss: 2.2074 - val_accuracy: 0.2708\n",
            "Epoch 6/50\n",
            "11/11 [==============================] - 5s 474ms/step - loss: 2.2411 - accuracy: 0.2236 - val_loss: 2.2008 - val_accuracy: 0.2917\n",
            "Epoch 7/50\n",
            "11/11 [==============================] - 4s 387ms/step - loss: 2.2293 - accuracy: 0.2236 - val_loss: 2.1811 - val_accuracy: 0.3333\n",
            "Epoch 8/50\n",
            "11/11 [==============================] - 6s 542ms/step - loss: 2.2236 - accuracy: 0.2981 - val_loss: 2.1911 - val_accuracy: 0.2292\n",
            "Epoch 9/50\n",
            "11/11 [==============================] - 4s 366ms/step - loss: 2.2339 - accuracy: 0.2422 - val_loss: 2.1745 - val_accuracy: 0.3125\n",
            "Epoch 10/50\n",
            "11/11 [==============================] - 4s 354ms/step - loss: 2.2182 - accuracy: 0.2671 - val_loss: 2.1679 - val_accuracy: 0.3333\n",
            "Epoch 11/50\n",
            "11/11 [==============================] - 6s 519ms/step - loss: 2.2033 - accuracy: 0.2857 - val_loss: 2.1586 - val_accuracy: 0.4167\n",
            "Epoch 12/50\n",
            "11/11 [==============================] - 5s 434ms/step - loss: 2.1996 - accuracy: 0.3292 - val_loss: 2.1552 - val_accuracy: 0.4167\n",
            "Epoch 13/50\n",
            "11/11 [==============================] - 4s 366ms/step - loss: 2.1960 - accuracy: 0.3354 - val_loss: 2.1527 - val_accuracy: 0.3958\n",
            "Epoch 14/50\n",
            "11/11 [==============================] - 4s 365ms/step - loss: 2.2024 - accuracy: 0.3665 - val_loss: 2.1587 - val_accuracy: 0.3333\n",
            "Epoch 15/50\n",
            "11/11 [==============================] - 6s 562ms/step - loss: 2.1926 - accuracy: 0.3182 - val_loss: 2.1258 - val_accuracy: 0.4583\n",
            "Epoch 16/50\n",
            "11/11 [==============================] - 4s 366ms/step - loss: 2.1831 - accuracy: 0.3230 - val_loss: 2.1198 - val_accuracy: 0.5208\n",
            "Epoch 17/50\n",
            "11/11 [==============================] - 4s 372ms/step - loss: 2.1630 - accuracy: 0.4224 - val_loss: 2.1250 - val_accuracy: 0.5000\n",
            "Epoch 18/50\n",
            "11/11 [==============================] - 5s 483ms/step - loss: 2.1558 - accuracy: 0.3789 - val_loss: 2.0992 - val_accuracy: 0.5417\n",
            "Epoch 19/50\n",
            "11/11 [==============================] - 5s 468ms/step - loss: 2.1375 - accuracy: 0.4602 - val_loss: 2.1172 - val_accuracy: 0.4375\n",
            "Epoch 20/50\n",
            "11/11 [==============================] - 4s 347ms/step - loss: 2.1210 - accuracy: 0.5155 - val_loss: 2.0843 - val_accuracy: 0.5417\n",
            "Epoch 21/50\n",
            "11/11 [==============================] - 4s 395ms/step - loss: 2.1231 - accuracy: 0.4720 - val_loss: 2.0631 - val_accuracy: 0.6458\n",
            "Epoch 22/50\n",
            "11/11 [==============================] - 6s 585ms/step - loss: 2.0972 - accuracy: 0.4969 - val_loss: 2.0550 - val_accuracy: 0.5833\n",
            "Epoch 23/50\n",
            "11/11 [==============================] - 4s 348ms/step - loss: 2.0932 - accuracy: 0.4907 - val_loss: 2.0225 - val_accuracy: 0.6667\n",
            "Epoch 24/50\n",
            "11/11 [==============================] - 4s 349ms/step - loss: 2.0771 - accuracy: 0.5217 - val_loss: 2.0344 - val_accuracy: 0.5833\n",
            "Epoch 25/50\n",
            "11/11 [==============================] - 6s 570ms/step - loss: 2.0690 - accuracy: 0.5341 - val_loss: 1.9991 - val_accuracy: 0.6875\n",
            "Epoch 26/50\n",
            "11/11 [==============================] - 4s 342ms/step - loss: 2.0532 - accuracy: 0.5776 - val_loss: 2.0080 - val_accuracy: 0.6042\n",
            "Epoch 27/50\n",
            "11/11 [==============================] - 5s 430ms/step - loss: 2.0537 - accuracy: 0.4783 - val_loss: 1.9843 - val_accuracy: 0.6875\n",
            "Epoch 28/50\n",
            "11/11 [==============================] - 6s 556ms/step - loss: 2.0820 - accuracy: 0.4658 - val_loss: 1.9941 - val_accuracy: 0.6458\n",
            "Epoch 29/50\n",
            "11/11 [==============================] - 4s 338ms/step - loss: 2.0374 - accuracy: 0.5031 - val_loss: 1.9583 - val_accuracy: 0.6875\n",
            "Epoch 30/50\n",
            "11/11 [==============================] - 4s 364ms/step - loss: 2.0099 - accuracy: 0.5776 - val_loss: 1.9631 - val_accuracy: 0.6458\n",
            "Epoch 31/50\n",
            "11/11 [==============================] - 6s 501ms/step - loss: 2.0172 - accuracy: 0.5466 - val_loss: 1.9508 - val_accuracy: 0.6458\n",
            "Epoch 32/50\n",
            "11/11 [==============================] - 4s 365ms/step - loss: 2.0138 - accuracy: 0.5093 - val_loss: 1.9400 - val_accuracy: 0.6667\n",
            "Epoch 33/50\n",
            "11/11 [==============================] - 6s 516ms/step - loss: 1.9931 - accuracy: 0.5839 - val_loss: 1.9133 - val_accuracy: 0.7292\n",
            "Epoch 34/50\n",
            "11/11 [==============================] - 4s 370ms/step - loss: 1.9667 - accuracy: 0.6087 - val_loss: 1.8959 - val_accuracy: 0.7083\n",
            "Epoch 35/50\n",
            "11/11 [==============================] - 4s 368ms/step - loss: 1.9941 - accuracy: 0.5155 - val_loss: 1.9010 - val_accuracy: 0.6875\n",
            "Epoch 36/50\n",
            "11/11 [==============================] - 6s 571ms/step - loss: 1.9593 - accuracy: 0.5590 - val_loss: 1.8969 - val_accuracy: 0.6250\n",
            "Epoch 37/50\n",
            "11/11 [==============================] - 4s 346ms/step - loss: 1.9272 - accuracy: 0.6211 - val_loss: 1.8721 - val_accuracy: 0.7083\n",
            "Epoch 38/50\n",
            "11/11 [==============================] - 5s 480ms/step - loss: 1.9265 - accuracy: 0.6087 - val_loss: 1.8790 - val_accuracy: 0.6875\n",
            "Epoch 39/50\n",
            "11/11 [==============================] - 4s 369ms/step - loss: 1.9303 - accuracy: 0.5839 - val_loss: 1.8760 - val_accuracy: 0.6667\n",
            "Epoch 40/50\n",
            "11/11 [==============================] - 4s 389ms/step - loss: 1.9283 - accuracy: 0.5963 - val_loss: 1.8446 - val_accuracy: 0.7292\n",
            "Epoch 41/50\n",
            "11/11 [==============================] - 5s 487ms/step - loss: 1.9356 - accuracy: 0.5217 - val_loss: 1.8342 - val_accuracy: 0.6458\n",
            "Epoch 42/50\n",
            "11/11 [==============================] - 4s 357ms/step - loss: 1.8493 - accuracy: 0.6398 - val_loss: 1.7987 - val_accuracy: 0.7500\n",
            "Epoch 43/50\n",
            "11/11 [==============================] - 6s 544ms/step - loss: 1.8715 - accuracy: 0.6335 - val_loss: 1.8163 - val_accuracy: 0.7083\n",
            "Epoch 44/50\n",
            "11/11 [==============================] - 4s 346ms/step - loss: 1.8751 - accuracy: 0.5901 - val_loss: 1.8110 - val_accuracy: 0.6667\n",
            "Epoch 45/50\n",
            "11/11 [==============================] - 5s 446ms/step - loss: 1.8663 - accuracy: 0.5652 - val_loss: 1.7900 - val_accuracy: 0.7083\n",
            "Epoch 46/50\n",
            "11/11 [==============================] - 5s 464ms/step - loss: 1.8549 - accuracy: 0.6211 - val_loss: 1.7897 - val_accuracy: 0.6250\n",
            "Epoch 47/50\n",
            "11/11 [==============================] - 4s 341ms/step - loss: 1.8143 - accuracy: 0.6211 - val_loss: 1.7742 - val_accuracy: 0.6875\n",
            "Epoch 48/50\n",
            "11/11 [==============================] - 4s 371ms/step - loss: 1.8325 - accuracy: 0.6025 - val_loss: 1.7411 - val_accuracy: 0.7500\n",
            "Epoch 49/50\n",
            "11/11 [==============================] - 6s 540ms/step - loss: 1.8031 - accuracy: 0.6522 - val_loss: 1.7565 - val_accuracy: 0.6875\n",
            "Epoch 50/50\n",
            "11/11 [==============================] - 4s 369ms/step - loss: 1.7786 - accuracy: 0.6648 - val_loss: 1.7362 - val_accuracy: 0.7083\n"
          ]
        }
      ]
    },
    {
      "cell_type": "code",
      "execution_count": null,
      "metadata": {
        "id": "svDt5JXEWfDX",
        "colab": {
          "base_uri": "https://localhost:8080/"
        },
        "outputId": "bdb7634d-ec91-43fb-bf04-dd142d3184de"
      },
      "outputs": [
        {
          "output_type": "stream",
          "name": "stderr",
          "text": [
            "/usr/local/lib/python3.10/dist-packages/keras/src/engine/training.py:3079: UserWarning: You are saving your model as an HDF5 file via `model.save()`. This file format is considered legacy. We recommend using instead the native Keras format, e.g. `model.save('my_model.keras')`.\n",
            "  saving_api.save_model(\n"
          ]
        }
      ],
      "source": [
        "model.save('face_recognise.h5')"
      ]
    },
    {
      "cell_type": "code",
      "execution_count": null,
      "metadata": {
        "colab": {
          "base_uri": "https://localhost:8080/"
        },
        "id": "12bWDuzpjUaq",
        "outputId": "30f8c82f-be87-4ef8-d35b-b11034c43659"
      },
      "outputs": [
        {
          "output_type": "stream",
          "name": "stdout",
          "text": [
            "Model: \"model_2\"\n",
            "_________________________________________________________________\n",
            " Layer (type)                Output Shape              Param #   \n",
            "=================================================================\n",
            " inception_v3_input (InputL  [(None, 250, 250, 3)]     0         \n",
            " ayer)                                                           \n",
            "                                                                 \n",
            " inception_v3 (Functional)   (None, 2048)              21802784  \n",
            "                                                                 \n",
            " flatten (Flatten)           (None, 2048)              0         \n",
            "                                                                 \n",
            " dense (Dense)               (None, 1024)              2098176   \n",
            "                                                                 \n",
            " dropout (Dropout)           (None, 1024)              0         \n",
            "                                                                 \n",
            " dense_1 (Dense)             (None, 98)                100450    \n",
            "                                                                 \n",
            " output_layer (Dense)        (None, 10)                990       \n",
            "                                                                 \n",
            "=================================================================\n",
            "Total params: 24002400 (91.56 MB)\n",
            "Trainable params: 2199616 (8.39 MB)\n",
            "Non-trainable params: 21802784 (83.17 MB)\n",
            "_________________________________________________________________\n"
          ]
        }
      ],
      "source": [
        "model.summary()"
      ]
    },
    {
      "cell_type": "code",
      "source": [
        "# Évaluer le modèle sur l'ensemble de test\n",
        "test_loss, test_accuracy = model.evaluate(test_generator)\n",
        "print(f\"Test Accuracy: {test_accuracy * 100:.2f}%\")"
      ],
      "metadata": {
        "colab": {
          "base_uri": "https://localhost:8080/"
        },
        "id": "wEXsSSkcqTZx",
        "outputId": "29f203c0-3566-48d6-fbc1-4ae514dc9512"
      },
      "execution_count": null,
      "outputs": [
        {
          "output_type": "stream",
          "name": "stdout",
          "text": [
            "4/4 [==============================] - 1s 431ms/step - loss: 1.7163 - accuracy: 0.7167\n",
            "Test Accuracy: 71.67%\n"
          ]
        }
      ]
    },
    {
      "cell_type": "code",
      "source": [
        "# Visualisation\n",
        "plt.plot(history2.history['accuracy'])\n",
        "plt.plot(history2.history['val_accuracy'])\n",
        "plt.title('Accuracy')\n",
        "plt.ylabel('Accuracy')\n",
        "plt.xlabel('Epoch')\n",
        "plt.legend(['Train', 'Val'], loc='upper left')\n",
        "plt.show()"
      ],
      "metadata": {
        "colab": {
          "base_uri": "https://localhost:8080/",
          "height": 452
        },
        "id": "MQEXc3YdqXKz",
        "outputId": "36f7004a-d4c2-4e67-f5ce-ae0952fd34be"
      },
      "execution_count": null,
      "outputs": [
        {
          "output_type": "display_data",
          "data": {
            "text/plain": [
              "<Figure size 640x480 with 1 Axes>"
            ],
            "image/png": "[encoded data removed]"
          },
          "metadata": {}
        }
      ]
    },
    {
      "cell_type": "code",
      "source": [
        "from tensorflow.keras.applications.inception_v3 import preprocess_input\n",
        "# Créer le générateur pour l'ensemble de test\n",
        "test_datagen = ImageDataGenerator(preprocessing_function=preprocess_input)\n",
        "\n",
        "test_generator = test_datagen.flow_from_directory(\n",
        "    test_dir,\n",
        "    target_size=(250, 250),\n",
        "    batch_size=16,\n",
        "    class_mode='categorical',\n",
        "    shuffle=False  # Important pour la correspondance des prédictions et des étiquettes\n",
        ")"
      ],
      "metadata": {
        "colab": {
          "base_uri": "https://localhost:8080/"
        },
        "id": "iu3QlSQquy2T",
        "outputId": "07e26aa3-eb9d-43f6-db5c-19c8a7d05e52"
      },
      "execution_count": null,
      "outputs": [
        {
          "output_type": "stream",
          "name": "stdout",
          "text": [
            "Found 60 images belonging to 10 classes.\n"
          ]
        }
      ]
    },
    {
      "cell_type": "code",
      "source": [
        "history3 = model.fit(\n",
        "    train_generator,\n",
        "    steps_per_epoch=train_generator.samples // train_generator.batch_size,\n",
        "    validation_data=val_generator,\n",
        "    validation_steps=val_generator.samples // val_generator.batch_size,\n",
        "    epochs=70\n",
        ")"
      ],
      "metadata": {
        "colab": {
          "base_uri": "https://localhost:8080/"
        },
        "id": "ug1n6jyc2_tO",
        "outputId": "2ae64300-bbc2-4af0-e2fb-da75dd19d8ec"
      },
      "execution_count": null,
      "outputs": [
        {
          "output_type": "stream",
          "name": "stdout",
          "text": [
            "Epoch 1/70\n",
            "12/12 [==============================] - 13s 725ms/step - loss: 2.2980 - accuracy: 0.1243 - val_loss: 2.2923 - val_accuracy: 0.0625\n",
            "Epoch 2/70\n",
            "12/12 [==============================] - 4s 365ms/step - loss: 2.2710 - accuracy: 0.2054 - val_loss: 2.2757 - val_accuracy: 0.0625\n",
            "Epoch 3/70\n",
            "12/12 [==============================] - 4s 359ms/step - loss: 2.2690 - accuracy: 0.2000 - val_loss: 2.2702 - val_accuracy: 0.2500\n",
            "Epoch 4/70\n",
            "12/12 [==============================] - 6s 515ms/step - loss: 2.2627 - accuracy: 0.2649 - val_loss: 2.2352 - val_accuracy: 0.3750\n",
            "Epoch 5/70\n",
            "12/12 [==============================] - 4s 354ms/step - loss: 2.2572 - accuracy: 0.2703 - val_loss: 2.2303 - val_accuracy: 0.3125\n",
            "Epoch 6/70\n",
            "12/12 [==============================] - 6s 488ms/step - loss: 2.2352 - accuracy: 0.3081 - val_loss: 2.2037 - val_accuracy: 0.5000\n",
            "Epoch 7/70\n",
            "12/12 [==============================] - 4s 355ms/step - loss: 2.2369 - accuracy: 0.2811 - val_loss: 2.1938 - val_accuracy: 0.5000\n",
            "Epoch 8/70\n",
            "12/12 [==============================] - 6s 489ms/step - loss: 2.2118 - accuracy: 0.3568 - val_loss: 2.1626 - val_accuracy: 0.3750\n",
            "Epoch 9/70\n",
            "12/12 [==============================] - 4s 347ms/step - loss: 2.2095 - accuracy: 0.3351 - val_loss: 2.1887 - val_accuracy: 0.4375\n",
            "Epoch 10/70\n",
            "12/12 [==============================] - 6s 478ms/step - loss: 2.2010 - accuracy: 0.3297 - val_loss: 2.2079 - val_accuracy: 0.3750\n",
            "Epoch 11/70\n",
            "12/12 [==============================] - 4s 362ms/step - loss: 2.1865 - accuracy: 0.3784 - val_loss: 2.1796 - val_accuracy: 0.1875\n",
            "Epoch 12/70\n",
            "12/12 [==============================] - 5s 430ms/step - loss: 2.1746 - accuracy: 0.4000 - val_loss: 2.1441 - val_accuracy: 0.5000\n",
            "Epoch 13/70\n",
            "12/12 [==============================] - 4s 363ms/step - loss: 2.1604 - accuracy: 0.3514 - val_loss: 2.1444 - val_accuracy: 0.3125\n",
            "Epoch 14/70\n",
            "12/12 [==============================] - 5s 425ms/step - loss: 2.1554 - accuracy: 0.3946 - val_loss: 2.1325 - val_accuracy: 0.3750\n",
            "Epoch 15/70\n",
            "12/12 [==============================] - 6s 485ms/step - loss: 2.1307 - accuracy: 0.4541 - val_loss: 2.1405 - val_accuracy: 0.4375\n",
            "Epoch 16/70\n",
            "12/12 [==============================] - 4s 381ms/step - loss: 2.1304 - accuracy: 0.4378 - val_loss: 2.0931 - val_accuracy: 0.4375\n",
            "Epoch 17/70\n",
            "12/12 [==============================] - 7s 561ms/step - loss: 2.1178 - accuracy: 0.4324 - val_loss: 2.0698 - val_accuracy: 0.6875\n",
            "Epoch 18/70\n",
            "12/12 [==============================] - 4s 358ms/step - loss: 2.0976 - accuracy: 0.4541 - val_loss: 2.0850 - val_accuracy: 0.6250\n",
            "Epoch 19/70\n",
            "12/12 [==============================] - 6s 475ms/step - loss: 2.0648 - accuracy: 0.5351 - val_loss: 2.0600 - val_accuracy: 0.6875\n",
            "Epoch 20/70\n",
            "12/12 [==============================] - 5s 422ms/step - loss: 2.0762 - accuracy: 0.4919 - val_loss: 2.0979 - val_accuracy: 0.5000\n",
            "Epoch 21/70\n",
            "12/12 [==============================] - 4s 364ms/step - loss: 2.0718 - accuracy: 0.5243 - val_loss: 2.0780 - val_accuracy: 0.5625\n",
            "Epoch 22/70\n",
            "12/12 [==============================] - 5s 400ms/step - loss: 2.0865 - accuracy: 0.4432 - val_loss: 2.0672 - val_accuracy: 0.5625\n",
            "Epoch 23/70\n",
            "12/12 [==============================] - 6s 481ms/step - loss: 2.0531 - accuracy: 0.5189 - val_loss: 2.0620 - val_accuracy: 0.5625\n",
            "Epoch 24/70\n",
            "12/12 [==============================] - 4s 357ms/step - loss: 2.0277 - accuracy: 0.4919 - val_loss: 1.9920 - val_accuracy: 0.6250\n",
            "Epoch 25/70\n",
            "12/12 [==============================] - 4s 353ms/step - loss: 2.0096 - accuracy: 0.5351 - val_loss: 1.9262 - val_accuracy: 0.7500\n",
            "Epoch 26/70\n",
            "12/12 [==============================] - 7s 550ms/step - loss: 1.9997 - accuracy: 0.5730 - val_loss: 2.0096 - val_accuracy: 0.6250\n",
            "Epoch 27/70\n",
            "12/12 [==============================] - 4s 350ms/step - loss: 1.9818 - accuracy: 0.5568 - val_loss: 1.9390 - val_accuracy: 0.5625\n",
            "Epoch 28/70\n",
            "12/12 [==============================] - 4s 354ms/step - loss: 1.9731 - accuracy: 0.5405 - val_loss: 1.9418 - val_accuracy: 0.5625\n",
            "Epoch 29/70\n",
            "12/12 [==============================] - 6s 544ms/step - loss: 1.9429 - accuracy: 0.5946 - val_loss: 1.9602 - val_accuracy: 0.6250\n",
            "Epoch 30/70\n",
            "12/12 [==============================] - 4s 362ms/step - loss: 1.9251 - accuracy: 0.6865 - val_loss: 1.9507 - val_accuracy: 0.6875\n",
            "Epoch 31/70\n",
            "12/12 [==============================] - 4s 369ms/step - loss: 1.9158 - accuracy: 0.6757 - val_loss: 1.8457 - val_accuracy: 0.9375\n",
            "Epoch 32/70\n",
            "12/12 [==============================] - 6s 532ms/step - loss: 1.9119 - accuracy: 0.6541 - val_loss: 1.9692 - val_accuracy: 0.6250\n",
            "Epoch 33/70\n",
            "12/12 [==============================] - 4s 364ms/step - loss: 1.8676 - accuracy: 0.6811 - val_loss: 1.8717 - val_accuracy: 0.6875\n",
            "Epoch 34/70\n",
            "12/12 [==============================] - 5s 439ms/step - loss: 1.8721 - accuracy: 0.6703 - val_loss: 1.8924 - val_accuracy: 0.6875\n",
            "Epoch 35/70\n",
            "12/12 [==============================] - 4s 364ms/step - loss: 1.8563 - accuracy: 0.6919 - val_loss: 1.9069 - val_accuracy: 0.6250\n",
            "Epoch 36/70\n",
            "12/12 [==============================] - 5s 427ms/step - loss: 1.8719 - accuracy: 0.6432 - val_loss: 1.8041 - val_accuracy: 0.6250\n",
            "Epoch 37/70\n",
            "12/12 [==============================] - 4s 353ms/step - loss: 1.8492 - accuracy: 0.6054 - val_loss: 1.8509 - val_accuracy: 0.8125\n",
            "Epoch 38/70\n",
            "12/12 [==============================] - 6s 477ms/step - loss: 1.8178 - accuracy: 0.6771 - val_loss: 1.8123 - val_accuracy: 0.6875\n",
            "Epoch 39/70\n",
            "12/12 [==============================] - 6s 452ms/step - loss: 1.8175 - accuracy: 0.6703 - val_loss: 1.7938 - val_accuracy: 0.5000\n",
            "Epoch 40/70\n",
            "12/12 [==============================] - 4s 356ms/step - loss: 1.7813 - accuracy: 0.6919 - val_loss: 1.7042 - val_accuracy: 0.8125\n",
            "Epoch 41/70\n",
            "12/12 [==============================] - 5s 454ms/step - loss: 1.7634 - accuracy: 0.7243 - val_loss: 1.7686 - val_accuracy: 0.6875\n",
            "Epoch 42/70\n",
            "12/12 [==============================] - 5s 448ms/step - loss: 1.7573 - accuracy: 0.6865 - val_loss: 1.7973 - val_accuracy: 0.6875\n",
            "Epoch 43/70\n",
            "12/12 [==============================] - 5s 391ms/step - loss: 1.7486 - accuracy: 0.6649 - val_loss: 1.6970 - val_accuracy: 0.7500\n",
            "Epoch 44/70\n",
            "12/12 [==============================] - 6s 510ms/step - loss: 1.7263 - accuracy: 0.6865 - val_loss: 1.6230 - val_accuracy: 0.7500\n",
            "Epoch 45/70\n",
            "12/12 [==============================] - 4s 367ms/step - loss: 1.6926 - accuracy: 0.7189 - val_loss: 1.6628 - val_accuracy: 0.7500\n",
            "Epoch 46/70\n",
            "12/12 [==============================] - 7s 561ms/step - loss: 1.7030 - accuracy: 0.7189 - val_loss: 1.7047 - val_accuracy: 0.7500\n",
            "Epoch 47/70\n",
            "12/12 [==============================] - 4s 367ms/step - loss: 1.6772 - accuracy: 0.7297 - val_loss: 1.6102 - val_accuracy: 0.7500\n",
            "Epoch 48/70\n",
            "12/12 [==============================] - 4s 357ms/step - loss: 1.6940 - accuracy: 0.6703 - val_loss: 1.6879 - val_accuracy: 0.5625\n",
            "Epoch 49/70\n",
            "12/12 [==============================] - 6s 532ms/step - loss: 1.6536 - accuracy: 0.7297 - val_loss: 1.6081 - val_accuracy: 0.7500\n",
            "Epoch 50/70\n",
            "12/12 [==============================] - 4s 373ms/step - loss: 1.6300 - accuracy: 0.7189 - val_loss: 1.6362 - val_accuracy: 0.7500\n",
            "Epoch 51/70\n",
            "12/12 [==============================] - 4s 362ms/step - loss: 1.6193 - accuracy: 0.7351 - val_loss: 1.6594 - val_accuracy: 0.6875\n",
            "Epoch 52/70\n",
            "12/12 [==============================] - 6s 514ms/step - loss: 1.6408 - accuracy: 0.7189 - val_loss: 1.5886 - val_accuracy: 0.7500\n",
            "Epoch 53/70\n",
            "12/12 [==============================] - 4s 367ms/step - loss: 1.5825 - accuracy: 0.7552 - val_loss: 1.5463 - val_accuracy: 0.6875\n",
            "Epoch 54/70\n",
            "12/12 [==============================] - 4s 351ms/step - loss: 1.5907 - accuracy: 0.7459 - val_loss: 1.6834 - val_accuracy: 0.6250\n",
            "Epoch 55/70\n",
            "12/12 [==============================] - 6s 527ms/step - loss: 1.5540 - accuracy: 0.7622 - val_loss: 1.5583 - val_accuracy: 0.6250\n",
            "Epoch 56/70\n",
            "12/12 [==============================] - 4s 362ms/step - loss: 1.5597 - accuracy: 0.7243 - val_loss: 1.6078 - val_accuracy: 0.6875\n",
            "Epoch 57/70\n",
            "12/12 [==============================] - 4s 369ms/step - loss: 1.5461 - accuracy: 0.7405 - val_loss: 1.4875 - val_accuracy: 0.8125\n",
            "Epoch 58/70\n",
            "12/12 [==============================] - 7s 557ms/step - loss: 1.5600 - accuracy: 0.7189 - val_loss: 1.4525 - val_accuracy: 0.7500\n",
            "Epoch 59/70\n",
            "12/12 [==============================] - 4s 361ms/step - loss: 1.5276 - accuracy: 0.7297 - val_loss: 1.4741 - val_accuracy: 0.7500\n",
            "Epoch 60/70\n",
            "12/12 [==============================] - 4s 351ms/step - loss: 1.4859 - accuracy: 0.7514 - val_loss: 1.3883 - val_accuracy: 0.7500\n",
            "Epoch 61/70\n",
            "12/12 [==============================] - 7s 582ms/step - loss: 1.5143 - accuracy: 0.7405 - val_loss: 1.5414 - val_accuracy: 0.6875\n",
            "Epoch 62/70\n",
            "12/12 [==============================] - 5s 360ms/step - loss: 1.5063 - accuracy: 0.7081 - val_loss: 1.5561 - val_accuracy: 0.6250\n",
            "Epoch 63/70\n",
            "12/12 [==============================] - 4s 362ms/step - loss: 1.4707 - accuracy: 0.7676 - val_loss: 1.4161 - val_accuracy: 0.7500\n",
            "Epoch 64/70\n",
            "12/12 [==============================] - 6s 495ms/step - loss: 1.4687 - accuracy: 0.7405 - val_loss: 1.4731 - val_accuracy: 0.7500\n",
            "Epoch 65/70\n",
            "12/12 [==============================] - 4s 352ms/step - loss: 1.4960 - accuracy: 0.7135 - val_loss: 1.4696 - val_accuracy: 0.8125\n",
            "Epoch 66/70\n",
            "12/12 [==============================] - 6s 475ms/step - loss: 1.4596 - accuracy: 0.7459 - val_loss: 1.4238 - val_accuracy: 0.7500\n",
            "Epoch 67/70\n",
            "12/12 [==============================] - 5s 386ms/step - loss: 1.4383 - accuracy: 0.7500 - val_loss: 1.4836 - val_accuracy: 0.6875\n",
            "Epoch 68/70\n",
            "12/12 [==============================] - 5s 433ms/step - loss: 1.4224 - accuracy: 0.7297 - val_loss: 1.4010 - val_accuracy: 0.7500\n",
            "Epoch 69/70\n",
            "12/12 [==============================] - 4s 373ms/step - loss: 1.3918 - accuracy: 0.7760 - val_loss: 1.4658 - val_accuracy: 0.6250\n",
            "Epoch 70/70\n",
            "12/12 [==============================] - 5s 424ms/step - loss: 1.4293 - accuracy: 0.7243 - val_loss: 1.3520 - val_accuracy: 0.8125\n"
          ]
        }
      ]
    },
    {
      "cell_type": "code",
      "source": [
        "# Visualisation\n",
        "plt.plot(history3.history['accuracy'])\n",
        "plt.plot(history3.history['val_accuracy'])\n",
        "plt.title('Accuracy')\n",
        "plt.ylabel('Accuracy')\n",
        "plt.xlabel('Epoch')\n",
        "plt.legend(['Train', 'Val'], loc='upper left')\n",
        "plt.show()"
      ],
      "metadata": {
        "colab": {
          "base_uri": "https://localhost:8080/",
          "height": 472
        },
        "id": "U71Th7wx46Ps",
        "outputId": "7da56ead-c4c9-4c68-a79a-64a3644fa61b"
      },
      "execution_count": null,
      "outputs": [
        {
          "output_type": "display_data",
          "data": {
            "text/plain": [
              "<Figure size 640x480 with 1 Axes>"
            ],
            "image/png": "[encoded data removed]"
          },
          "metadata": {}
        }
      ]
    },
    {
      "cell_type": "code",
      "source": [
        "from tensorflow.keras.models import load_model\n",
        "from tensorflow.keras.layers import Dense\n",
        "from tensorflow.keras.models import Model\n",
        "from tensorflow.keras.applications.inception_v3 import InceptionV3\n",
        "\n",
        "# Chargement du modèle pré-entrainé\n",
        "base_model = InceptionV3(weights='imagenet', include_top=False, pooling='avg', input_shape=image_size + (3,))\n",
        "\n",
        "# Construction du modèle\n",
        "model2 = Sequential()\n",
        "model2.add(base_model)\n",
        "model2.add(Flatten())\n",
        "model2.add(Dense(1024, activation='relu'))\n",
        "model2.add(Dropout(0.5))\n",
        "model2.add(Dense(len(classes_train), activation='softmax'))\n",
        "\n",
        "# Congeler les couches du modèle de base pour l'entraînement\n",
        "for layer in base_model.layers:\n",
        "    layer.trainable = False\n",
        "\n",
        "# Dégeler les 10 dernières couches du modèle\n",
        "# N = 10\n",
        "# for layer in base_model3.layers[:-N]:\n",
        "#     layer.trainable = False\n",
        "# for layer in base_model3.layers[-N:]:\n",
        "#     layer.trainable = True\n",
        "\n",
        "\n",
        "\n",
        "#  couche dense finale nommée 'predictions'\n",
        "# model.layers.pop()  # Supprime la dernière couche\n",
        "# new_output_layer = Dense(len(classes_train), activation='softmax', name='output_layer')(model.layers[-1].output)\n",
        "# model = Model(inputs=model.inputs, outputs=new_output_layer)\n",
        "\n",
        "\n",
        "model2.compile(optimizer='adam', loss='categorical_crossentropy', metrics=['accuracy'])"
      ],
      "metadata": {
        "colab": {
          "base_uri": "https://localhost:8080/"
        },
        "id": "lM0cBDXraY1G",
        "outputId": "12ddc88d-f81d-4f44-bb2f-6ca431bc0c5a"
      },
      "execution_count": null,
      "outputs": [
        {
          "output_type": "stream",
          "name": "stdout",
          "text": [
            "Downloading data from https://storage.googleapis.com/tensorflow/keras-applications/inception_v3/inception_v3_weights_tf_dim_ordering_tf_kernels_notop.h5\n",
            "87910968/87910968 [==============================] - 0s 0us/step\n"
          ]
        }
      ]
    },
    {
      "cell_type": "code",
      "source": [
        "history4 = model2.fit(\n",
        "    train_generator,\n",
        "    steps_per_epoch=train_generator.samples // train_generator.batch_size,\n",
        "    validation_data=val_generator,\n",
        "    validation_steps=val_generator.samples // val_generator.batch_size,\n",
        "    epochs=100\n",
        ")"
      ],
      "metadata": {
        "colab": {
          "base_uri": "https://localhost:8080/"
        },
        "id": "AvofXp5wROzD",
        "outputId": "9a0926ac-e4c1-4f64-8c40-6464a5ed01de"
      },
      "execution_count": null,
      "outputs": [
        {
          "output_type": "stream",
          "name": "stdout",
          "text": [
            "Epoch 1/100\n",
            "6/6 [==============================] - 13s 955ms/step - loss: 2.6628 - accuracy: 0.3018 - val_loss: 1.6072 - val_accuracy: 0.5625\n",
            "Epoch 2/100\n",
            "6/6 [==============================] - 4s 631ms/step - loss: 1.2398 - accuracy: 0.6095 - val_loss: 0.6165 - val_accuracy: 0.8125\n",
            "Epoch 3/100\n",
            "6/6 [==============================] - 4s 744ms/step - loss: 0.7011 - accuracy: 0.7692 - val_loss: 0.2127 - val_accuracy: 0.9375\n",
            "Epoch 4/100\n",
            "6/6 [==============================] - 5s 849ms/step - loss: 0.3325 - accuracy: 0.9112 - val_loss: 0.1947 - val_accuracy: 0.8750\n",
            "Epoch 5/100\n",
            "6/6 [==============================] - 4s 717ms/step - loss: 0.2063 - accuracy: 0.9527 - val_loss: 0.1527 - val_accuracy: 0.9375\n",
            "Epoch 6/100\n",
            "6/6 [==============================] - 6s 1s/step - loss: 0.2015 - accuracy: 0.9408 - val_loss: 0.0676 - val_accuracy: 1.0000\n",
            "Epoch 7/100\n",
            "6/6 [==============================] - 4s 589ms/step - loss: 0.2316 - accuracy: 0.9290 - val_loss: 0.1819 - val_accuracy: 0.8750\n",
            "Epoch 8/100\n",
            "6/6 [==============================] - 4s 719ms/step - loss: 0.2481 - accuracy: 0.9290 - val_loss: 0.0764 - val_accuracy: 1.0000\n",
            "Epoch 9/100\n",
            "6/6 [==============================] - 6s 1s/step - loss: 0.2482 - accuracy: 0.9172 - val_loss: 0.0384 - val_accuracy: 1.0000\n",
            "Epoch 10/100\n",
            "6/6 [==============================] - 4s 612ms/step - loss: 0.0651 - accuracy: 0.9941 - val_loss: 0.2166 - val_accuracy: 0.9375\n",
            "Epoch 11/100\n",
            "6/6 [==============================] - 5s 826ms/step - loss: 0.1287 - accuracy: 0.9763 - val_loss: 0.0215 - val_accuracy: 1.0000\n",
            "Epoch 12/100\n",
            "6/6 [==============================] - 5s 725ms/step - loss: 0.0806 - accuracy: 0.9704 - val_loss: 0.0406 - val_accuracy: 1.0000\n",
            "Epoch 13/100\n",
            "6/6 [==============================] - 4s 615ms/step - loss: 0.1093 - accuracy: 0.9586 - val_loss: 0.0448 - val_accuracy: 1.0000\n",
            "Epoch 14/100\n",
            "6/6 [==============================] - 4s 637ms/step - loss: 0.1048 - accuracy: 0.9704 - val_loss: 0.1609 - val_accuracy: 0.9375\n",
            "Epoch 15/100\n",
            "6/6 [==============================] - 6s 906ms/step - loss: 0.0550 - accuracy: 0.9882 - val_loss: 0.0400 - val_accuracy: 1.0000\n",
            "Epoch 16/100\n",
            "6/6 [==============================] - 4s 594ms/step - loss: 0.1056 - accuracy: 0.9882 - val_loss: 0.0176 - val_accuracy: 1.0000\n",
            "Epoch 17/100\n",
            "6/6 [==============================] - 4s 623ms/step - loss: 0.0381 - accuracy: 0.9882 - val_loss: 0.0319 - val_accuracy: 1.0000\n",
            "Epoch 18/100\n",
            "6/6 [==============================] - 6s 972ms/step - loss: 0.0517 - accuracy: 0.9740 - val_loss: 0.0170 - val_accuracy: 1.0000\n",
            "Epoch 19/100\n",
            "6/6 [==============================] - 4s 612ms/step - loss: 0.0509 - accuracy: 0.9704 - val_loss: 0.0100 - val_accuracy: 1.0000\n",
            "Epoch 20/100\n",
            "6/6 [==============================] - 5s 852ms/step - loss: 0.0624 - accuracy: 0.9896 - val_loss: 0.0079 - val_accuracy: 1.0000\n",
            "Epoch 21/100\n",
            "6/6 [==============================] - 6s 1s/step - loss: 0.0452 - accuracy: 0.9882 - val_loss: 0.1325 - val_accuracy: 0.8750\n",
            "Epoch 22/100\n",
            "6/6 [==============================] - 4s 619ms/step - loss: 0.0559 - accuracy: 0.9822 - val_loss: 0.0187 - val_accuracy: 1.0000\n",
            "Epoch 23/100\n",
            "6/6 [==============================] - 4s 695ms/step - loss: 0.0306 - accuracy: 0.9948 - val_loss: 0.0255 - val_accuracy: 1.0000\n",
            "Epoch 24/100\n",
            "6/6 [==============================] - 6s 965ms/step - loss: 0.1303 - accuracy: 0.9586 - val_loss: 0.0078 - val_accuracy: 1.0000\n",
            "Epoch 25/100\n",
            "6/6 [==============================] - 4s 589ms/step - loss: 0.0230 - accuracy: 1.0000 - val_loss: 0.0053 - val_accuracy: 1.0000\n",
            "Epoch 26/100\n",
            "6/6 [==============================] - 5s 776ms/step - loss: 0.0407 - accuracy: 0.9822 - val_loss: 0.0066 - val_accuracy: 1.0000\n",
            "Epoch 27/100\n",
            "6/6 [==============================] - 5s 1s/step - loss: 0.0851 - accuracy: 0.9763 - val_loss: 0.0444 - val_accuracy: 1.0000\n",
            "Epoch 28/100\n",
            "6/6 [==============================] - 5s 667ms/step - loss: 0.0427 - accuracy: 0.9882 - val_loss: 0.0137 - val_accuracy: 1.0000\n",
            "Epoch 29/100\n",
            "6/6 [==============================] - 4s 641ms/step - loss: 0.0488 - accuracy: 0.9882 - val_loss: 0.0057 - val_accuracy: 1.0000\n",
            "Epoch 30/100\n",
            "6/6 [==============================] - 5s 838ms/step - loss: 0.0289 - accuracy: 0.9941 - val_loss: 0.0052 - val_accuracy: 1.0000\n",
            "Epoch 31/100\n",
            "6/6 [==============================] - 5s 733ms/step - loss: 0.0338 - accuracy: 0.9941 - val_loss: 0.0030 - val_accuracy: 1.0000\n",
            "Epoch 32/100\n",
            "6/6 [==============================] - 4s 703ms/step - loss: 0.0341 - accuracy: 0.9844 - val_loss: 0.0312 - val_accuracy: 1.0000\n",
            "Epoch 33/100\n",
            "6/6 [==============================] - 5s 806ms/step - loss: 0.0171 - accuracy: 1.0000 - val_loss: 6.1107e-04 - val_accuracy: 1.0000\n",
            "Epoch 34/100\n",
            "6/6 [==============================] - 6s 918ms/step - loss: 0.0445 - accuracy: 0.9941 - val_loss: 0.0041 - val_accuracy: 1.0000\n",
            "Epoch 35/100\n",
            "6/6 [==============================] - 4s 693ms/step - loss: 0.0240 - accuracy: 0.9948 - val_loss: 0.0076 - val_accuracy: 1.0000\n",
            "Epoch 36/100\n",
            "6/6 [==============================] - 4s 630ms/step - loss: 0.0188 - accuracy: 0.9882 - val_loss: 0.0095 - val_accuracy: 1.0000\n",
            "Epoch 37/100\n",
            "6/6 [==============================] - 6s 981ms/step - loss: 0.0151 - accuracy: 1.0000 - val_loss: 0.0032 - val_accuracy: 1.0000\n",
            "Epoch 38/100\n",
            "6/6 [==============================] - 4s 615ms/step - loss: 0.0225 - accuracy: 0.9882 - val_loss: 0.0053 - val_accuracy: 1.0000\n",
            "Epoch 39/100\n",
            "6/6 [==============================] - 4s 700ms/step - loss: 0.0107 - accuracy: 1.0000 - val_loss: 0.0025 - val_accuracy: 1.0000\n",
            "Epoch 40/100\n",
            "6/6 [==============================] - 5s 942ms/step - loss: 0.0176 - accuracy: 1.0000 - val_loss: 0.0021 - val_accuracy: 1.0000\n",
            "Epoch 41/100\n",
            "6/6 [==============================] - 4s 816ms/step - loss: 0.0133 - accuracy: 0.9941 - val_loss: 0.0137 - val_accuracy: 1.0000\n",
            "Epoch 42/100\n",
            "6/6 [==============================] - 4s 613ms/step - loss: 0.0460 - accuracy: 0.9941 - val_loss: 0.0081 - val_accuracy: 1.0000\n",
            "Epoch 43/100\n",
            "6/6 [==============================] - 4s 740ms/step - loss: 0.0178 - accuracy: 0.9941 - val_loss: 0.0044 - val_accuracy: 1.0000\n",
            "Epoch 44/100\n",
            "6/6 [==============================] - 5s 833ms/step - loss: 0.0272 - accuracy: 0.9882 - val_loss: 0.0185 - val_accuracy: 1.0000\n",
            "Epoch 45/100\n",
            "6/6 [==============================] - 4s 727ms/step - loss: 0.0375 - accuracy: 0.9882 - val_loss: 0.0128 - val_accuracy: 1.0000\n",
            "Epoch 46/100\n",
            "6/6 [==============================] - 7s 1s/step - loss: 0.0273 - accuracy: 0.9896 - val_loss: 0.0176 - val_accuracy: 1.0000\n",
            "Epoch 47/100\n",
            "6/6 [==============================] - 4s 733ms/step - loss: 0.0222 - accuracy: 1.0000 - val_loss: 0.0092 - val_accuracy: 1.0000\n",
            "Epoch 48/100\n",
            "6/6 [==============================] - 4s 719ms/step - loss: 0.0111 - accuracy: 1.0000 - val_loss: 0.0050 - val_accuracy: 1.0000\n",
            "Epoch 49/100\n",
            "6/6 [==============================] - 6s 982ms/step - loss: 0.0396 - accuracy: 0.9941 - val_loss: 0.0086 - val_accuracy: 1.0000\n",
            "Epoch 50/100\n",
            "6/6 [==============================] - 4s 606ms/step - loss: 0.0131 - accuracy: 1.0000 - val_loss: 9.0495e-04 - val_accuracy: 1.0000\n",
            "Epoch 51/100\n",
            "6/6 [==============================] - 4s 596ms/step - loss: 0.0185 - accuracy: 0.9941 - val_loss: 0.0024 - val_accuracy: 1.0000\n",
            "Epoch 52/100\n",
            "6/6 [==============================] - 5s 909ms/step - loss: 0.0078 - accuracy: 1.0000 - val_loss: 0.0032 - val_accuracy: 1.0000\n",
            "Epoch 53/100\n",
            "6/6 [==============================] - 5s 683ms/step - loss: 0.0278 - accuracy: 0.9882 - val_loss: 0.0016 - val_accuracy: 1.0000\n",
            "Epoch 54/100\n",
            "6/6 [==============================] - 4s 657ms/step - loss: 0.0267 - accuracy: 0.9882 - val_loss: 0.0019 - val_accuracy: 1.0000\n",
            "Epoch 55/100\n",
            "6/6 [==============================] - 5s 744ms/step - loss: 0.0234 - accuracy: 0.9882 - val_loss: 0.0556 - val_accuracy: 1.0000\n",
            "Epoch 56/100\n",
            "6/6 [==============================] - 5s 833ms/step - loss: 0.0204 - accuracy: 0.9941 - val_loss: 0.0070 - val_accuracy: 1.0000\n",
            "Epoch 57/100\n",
            "6/6 [==============================] - 4s 615ms/step - loss: 0.0226 - accuracy: 0.9941 - val_loss: 0.0090 - val_accuracy: 1.0000\n",
            "Epoch 58/100\n",
            "6/6 [==============================] - 6s 880ms/step - loss: 0.0409 - accuracy: 0.9882 - val_loss: 0.0074 - val_accuracy: 1.0000\n",
            "Epoch 59/100\n",
            "6/6 [==============================] - 4s 742ms/step - loss: 0.0235 - accuracy: 0.9882 - val_loss: 0.0915 - val_accuracy: 0.9375\n",
            "Epoch 60/100\n",
            "6/6 [==============================] - 6s 945ms/step - loss: 0.0360 - accuracy: 0.9822 - val_loss: 0.0020 - val_accuracy: 1.0000\n",
            "Epoch 61/100\n",
            "6/6 [==============================] - 4s 619ms/step - loss: 0.0333 - accuracy: 0.9882 - val_loss: 0.0022 - val_accuracy: 1.0000\n",
            "Epoch 62/100\n",
            "6/6 [==============================] - 4s 629ms/step - loss: 0.0473 - accuracy: 0.9941 - val_loss: 0.0021 - val_accuracy: 1.0000\n",
            "Epoch 63/100\n",
            "6/6 [==============================] - 6s 953ms/step - loss: 0.0293 - accuracy: 0.9822 - val_loss: 0.0013 - val_accuracy: 1.0000\n",
            "Epoch 64/100\n",
            "6/6 [==============================] - 4s 665ms/step - loss: 0.0127 - accuracy: 1.0000 - val_loss: 0.0104 - val_accuracy: 1.0000\n",
            "Epoch 65/100\n",
            "6/6 [==============================] - 4s 606ms/step - loss: 0.0243 - accuracy: 0.9941 - val_loss: 0.0027 - val_accuracy: 1.0000\n",
            "Epoch 66/100\n",
            "6/6 [==============================] - 5s 898ms/step - loss: 0.0131 - accuracy: 1.0000 - val_loss: 0.0044 - val_accuracy: 1.0000\n",
            "Epoch 67/100\n",
            "6/6 [==============================] - 4s 653ms/step - loss: 0.0155 - accuracy: 1.0000 - val_loss: 0.0129 - val_accuracy: 1.0000\n",
            "Epoch 68/100\n",
            "6/6 [==============================] - 4s 703ms/step - loss: 0.0431 - accuracy: 0.9822 - val_loss: 0.0090 - val_accuracy: 1.0000\n",
            "Epoch 69/100\n",
            "6/6 [==============================] - 6s 1s/step - loss: 0.0338 - accuracy: 0.9844 - val_loss: 0.1516 - val_accuracy: 0.9375\n",
            "Epoch 70/100\n",
            "6/6 [==============================] - 5s 863ms/step - loss: 0.0230 - accuracy: 0.9941 - val_loss: 0.0222 - val_accuracy: 1.0000\n",
            "Epoch 71/100\n",
            "6/6 [==============================] - 4s 623ms/step - loss: 0.0283 - accuracy: 0.9941 - val_loss: 0.0092 - val_accuracy: 1.0000\n",
            "Epoch 72/100\n",
            "6/6 [==============================] - 5s 942ms/step - loss: 0.0479 - accuracy: 0.9844 - val_loss: 0.0890 - val_accuracy: 0.9375\n",
            "Epoch 73/100\n",
            "6/6 [==============================] - 5s 792ms/step - loss: 0.0211 - accuracy: 1.0000 - val_loss: 0.0848 - val_accuracy: 0.9375\n",
            "Epoch 74/100\n",
            "6/6 [==============================] - 4s 594ms/step - loss: 0.0243 - accuracy: 0.9941 - val_loss: 0.0248 - val_accuracy: 1.0000\n",
            "Epoch 75/100\n",
            "6/6 [==============================] - 4s 619ms/step - loss: 0.0233 - accuracy: 0.9941 - val_loss: 0.0037 - val_accuracy: 1.0000\n",
            "Epoch 76/100\n",
            "6/6 [==============================] - 7s 1s/step - loss: 0.0080 - accuracy: 1.0000 - val_loss: 0.0162 - val_accuracy: 1.0000\n",
            "Epoch 77/100\n",
            "6/6 [==============================] - 4s 726ms/step - loss: 0.0280 - accuracy: 0.9844 - val_loss: 0.0079 - val_accuracy: 1.0000\n",
            "Epoch 78/100\n",
            "6/6 [==============================] - 4s 613ms/step - loss: 0.0118 - accuracy: 1.0000 - val_loss: 0.0022 - val_accuracy: 1.0000\n",
            "Epoch 79/100\n",
            "6/6 [==============================] - 6s 964ms/step - loss: 0.0239 - accuracy: 0.9882 - val_loss: 0.0068 - val_accuracy: 1.0000\n",
            "Epoch 80/100\n",
            "6/6 [==============================] - 4s 625ms/step - loss: 0.0681 - accuracy: 0.9882 - val_loss: 0.0010 - val_accuracy: 1.0000\n",
            "Epoch 81/100\n",
            "6/6 [==============================] - 4s 627ms/step - loss: 0.0287 - accuracy: 0.9882 - val_loss: 0.0074 - val_accuracy: 1.0000\n",
            "Epoch 82/100\n",
            "6/6 [==============================] - 6s 1s/step - loss: 0.0307 - accuracy: 0.9882 - val_loss: 0.0013 - val_accuracy: 1.0000\n",
            "Epoch 83/100\n",
            "6/6 [==============================] - 4s 598ms/step - loss: 0.0306 - accuracy: 0.9822 - val_loss: 3.2417e-04 - val_accuracy: 1.0000\n",
            "Epoch 84/100\n",
            "6/6 [==============================] - 4s 604ms/step - loss: 0.0124 - accuracy: 1.0000 - val_loss: 2.6856e-04 - val_accuracy: 1.0000\n",
            "Epoch 85/100\n",
            "6/6 [==============================] - 5s 916ms/step - loss: 0.0470 - accuracy: 0.9941 - val_loss: 0.0044 - val_accuracy: 1.0000\n",
            "Epoch 86/100\n",
            "6/6 [==============================] - 5s 762ms/step - loss: 0.0575 - accuracy: 0.9882 - val_loss: 1.3207e-04 - val_accuracy: 1.0000\n",
            "Epoch 87/100\n",
            "6/6 [==============================] - 4s 670ms/step - loss: 0.0112 - accuracy: 1.0000 - val_loss: 0.0014 - val_accuracy: 1.0000\n",
            "Epoch 88/100\n",
            "6/6 [==============================] - 5s 907ms/step - loss: 0.0199 - accuracy: 0.9948 - val_loss: 0.0025 - val_accuracy: 1.0000\n",
            "Epoch 89/100\n",
            "6/6 [==============================] - 5s 965ms/step - loss: 0.0155 - accuracy: 1.0000 - val_loss: 0.0032 - val_accuracy: 1.0000\n",
            "Epoch 90/100\n",
            "6/6 [==============================] - 4s 601ms/step - loss: 0.0109 - accuracy: 1.0000 - val_loss: 5.1793e-04 - val_accuracy: 1.0000\n",
            "Epoch 91/100\n",
            "6/6 [==============================] - 4s 602ms/step - loss: 0.0193 - accuracy: 0.9941 - val_loss: 5.6711e-04 - val_accuracy: 1.0000\n",
            "Epoch 92/100\n",
            "6/6 [==============================] - 6s 991ms/step - loss: 0.0291 - accuracy: 0.9941 - val_loss: 0.0011 - val_accuracy: 1.0000\n",
            "Epoch 93/100\n",
            "6/6 [==============================] - 4s 601ms/step - loss: 0.0170 - accuracy: 0.9941 - val_loss: 0.0099 - val_accuracy: 1.0000\n",
            "Epoch 94/100\n",
            "6/6 [==============================] - 5s 894ms/step - loss: 0.0489 - accuracy: 0.9822 - val_loss: 0.0027 - val_accuracy: 1.0000\n",
            "Epoch 95/100\n",
            "6/6 [==============================] - 4s 620ms/step - loss: 0.0704 - accuracy: 0.9763 - val_loss: 0.0012 - val_accuracy: 1.0000\n",
            "Epoch 96/100\n",
            "6/6 [==============================] - 5s 958ms/step - loss: 0.0897 - accuracy: 0.9527 - val_loss: 0.0031 - val_accuracy: 1.0000\n",
            "Epoch 97/100\n",
            "6/6 [==============================] - 5s 745ms/step - loss: 0.0153 - accuracy: 1.0000 - val_loss: 2.5322e-04 - val_accuracy: 1.0000\n",
            "Epoch 98/100\n",
            "6/6 [==============================] - 4s 625ms/step - loss: 0.1171 - accuracy: 0.9704 - val_loss: 0.0682 - val_accuracy: 0.9375\n",
            "Epoch 99/100\n",
            "6/6 [==============================] - 5s 781ms/step - loss: 0.1222 - accuracy: 0.9586 - val_loss: 4.4187e-04 - val_accuracy: 1.0000\n",
            "Epoch 100/100\n",
            "6/6 [==============================] - 5s 769ms/step - loss: 0.1057 - accuracy: 0.9586 - val_loss: 0.0030 - val_accuracy: 1.0000\n"
          ]
        }
      ]
    },
    {
      "cell_type": "code",
      "source": [
        "# Évaluer le modèle sur l'ensemble de test\n",
        "test_loss, test_accuracy = model2.evaluate(test_generator)\n",
        "print(f\"Test Accuracy: {test_accuracy * 100:.2f}%\")"
      ],
      "metadata": {
        "colab": {
          "base_uri": "https://localhost:8080/"
        },
        "id": "q8XjtKKh2_iD",
        "outputId": "396b2695-1018-44e2-89ef-18fa46dcc7e6"
      },
      "execution_count": null,
      "outputs": [
        {
          "output_type": "stream",
          "name": "stdout",
          "text": [
            "2/2 [==============================] - 0s 164ms/step - loss: 0.4005 - accuracy: 0.9677\n",
            "Test Accuracy: 96.77%\n"
          ]
        }
      ]
    },
    {
      "cell_type": "code",
      "source": [
        "# Visualisation\n",
        "plt.plot(history4.history['accuracy'])\n",
        "plt.plot(history4.history['val_accuracy'])\n",
        "plt.title('Accuracy')\n",
        "plt.ylabel('Accuracy')\n",
        "plt.xlabel('Epoch')\n",
        "plt.legend(['Train', 'Val'], loc='upper left')\n",
        "plt.show()"
      ],
      "metadata": {
        "colab": {
          "base_uri": "https://localhost:8080/",
          "height": 472
        },
        "id": "1Po536N6d64M",
        "outputId": "4dc3bb09-8ec6-463d-ff2c-cb1cc293c7ff"
      },
      "execution_count": null,
      "outputs": [
        {
          "output_type": "display_data",
          "data": {
            "text/plain": [
              "<Figure size 640x480 with 1 Axes>"
            ],
            "image/png": "[encoded data removed]"
          },
          "metadata": {}
        }
      ]
    },
    {
      "cell_type": "code",
      "source": [
        "model2.save('face_recognise_plus.h5')"
      ],
      "metadata": {
        "id": "K3u5ScEy53sz"
      },
      "execution_count": null,
      "outputs": []
    },
    {
      "cell_type": "code",
      "source": [
        "test_generator = test_datagen.flow_from_directory(\n",
        "    test_dir,\n",
        "    target_size=image_size,\n",
        "    batch_size=16,\n",
        "    class_mode='categorical',\n",
        "    shuffle=False ) #ne pas mélanger l'ordre des images afin de faciliter la vérification"
      ],
      "metadata": {
        "id": "agmEAEwOi5ZK"
      },
      "execution_count": null,
      "outputs": []
    },
    {
      "cell_type": "code",
      "source": [
        "# test de prediction:\n",
        "from PIL import Image\n",
        "from tensorflow.keras.applications.inception_v3 import preprocess_input\n",
        "from tensorflow.keras.models import load_model\n",
        "from tensorflow.keras.preprocessing.image import  img_to_array\n",
        "\n",
        "\n",
        "# Chemin vers le modèle sauvegardé et le dossier de validation\n",
        "model_path = '/content/drive/MyDrive/ProjetIA/Real_time_face_recognition/face_dataset/face_recognise_plus.h5'# model\n",
        "#model_path = './face_recognise_plus.h5'\n",
        "file_path1 = '/content/drive/MyDrive/ProjetIA/Real_time_face_recognition/face_dataset/data/test/User.1/1.12.jpg'\n",
        "file_path2 = '/content/drive/MyDrive/ProjetIA/Real_time_face_recognition/face_dataset/dataset/User.3/3.10.jpg'\n",
        "file_path3 = '/content/drive/MyDrive/ProjetIA/Real_time_face_recognition/face_dataset/dataset/User.5/7.9.jpg'\n",
        "file_path4 = '/content/drive/MyDrive/ProjetIA/Real_time_face_recognition/face_dataset/dataset/User.5/7.25.jpg'\n",
        "file_path5 = '/content/drive/MyDrive/ProjetIA/Real_time_face_recognition/face_dataset/dataset/User.7/9.11.jpg'\n",
        "file_path7 = '/content/drive/MyDrive/ProjetIA/Real_time_face_recognition/face_dataset/data/test/User.8/19.jpg'\n",
        "file_path6 = '/content/drive/MyDrive/ProjetIA/Real_time_face_recognition/face_dataset/data/test/User.9/10.jpg'\n",
        "model = load_model(model_path)\n",
        "\n",
        "# Taille des images attendue par le modèle\n",
        "image_size = (250,250)\n",
        "\n",
        "def load_and_preprocess_image(file_path, target_size=image_size):\n",
        "    # Charger l'image avec PIL\n",
        "    img = Image.open(file_path).convert('RGB')\n",
        "    img = img.resize(target_size)\n",
        "    img_array = np.array(img)\n",
        "    # Ajouter une dimension de batch\n",
        "    img_array = np.expand_dims(img_array, axis=0)\n",
        "    img_processed =  preprocess_input(img_array)\n",
        "\n",
        "    return img_processed\n",
        "\n",
        "image1 = load_and_preprocess_image(file_path1)\n",
        "prediction1 = model.predict(image1)\n",
        "\n",
        "image2 = load_and_preprocess_image(file_path2)\n",
        "prediction2 = model.predict(image2)\n",
        "\n",
        "image3 = load_and_preprocess_image(file_path3)\n",
        "prediction3 = model.predict(image3)\n",
        "\n",
        "image4 = load_and_preprocess_image(file_path4)\n",
        "prediction4 = model.predict(image4)\n",
        "\n",
        "image5 = load_and_preprocess_image(file_path5)\n",
        "prediction5 = model.predict(image5)\n",
        "\n",
        "image6 = load_and_preprocess_image(file_path6)\n",
        "prediction6 = model.predict(image6)\n",
        "\n",
        "image7 = load_and_preprocess_image(file_path7)\n",
        "prediction7 = model.predict(image7)"
      ],
      "metadata": {
        "id": "2Bb25SITF3U1",
        "colab": {
          "base_uri": "https://localhost:8080/"
        },
        "outputId": "19863ddf-1cd4-4510-fca4-8d397e2a6519"
      },
      "execution_count": 38,
      "outputs": [
        {
          "output_type": "stream",
          "name": "stdout",
          "text": [
            "1/1 [==============================] - 2s 2s/step\n",
            "1/1 [==============================] - 0s 38ms/step\n",
            "1/1 [==============================] - 0s 38ms/step\n",
            "1/1 [==============================] - 0s 44ms/step\n",
            "1/1 [==============================] - 0s 44ms/step\n",
            "1/1 [==============================] - 0s 42ms/step\n",
            "1/1 [==============================] - 0s 49ms/step\n"
          ]
        }
      ]
    },
    {
      "cell_type": "code",
      "source": [
        "file_pathAH = '/content/drive/MyDrive/ProjetIA/Real_time_face_recognition/face_dataset/data/test/User.5/7.9.jpg'\n",
        "\n",
        "imageAH = load_and_preprocess_image(file_pathAH)\n",
        "predictionAH = model.predict(imageAH)"
      ],
      "metadata": {
        "colab": {
          "base_uri": "https://localhost:8080/"
        },
        "id": "EHvHas97c859",
        "outputId": "a42f924f-1ef6-4689-c880-8a43e536cb7b"
      },
      "execution_count": 17,
      "outputs": [
        {
          "output_type": "stream",
          "name": "stdout",
          "text": [
            "1/1 [==============================] - 0s 37ms/step\n"
          ]
        }
      ]
    },
    {
      "cell_type": "code",
      "source": [
        "if np.max(predictionAH) <0.6 : print('personne non reconnue')\n",
        "else: print( np.argmax(predictionAH))"
      ],
      "metadata": {
        "colab": {
          "base_uri": "https://localhost:8080/"
        },
        "id": "_43AQmsydwLQ",
        "outputId": "7fed0bbb-83b5-410b-bd8a-49bea00ba9e1"
      },
      "execution_count": 18,
      "outputs": [
        {
          "output_type": "stream",
          "name": "stdout",
          "text": [
            "5\n"
          ]
        }
      ]
    },
    {
      "cell_type": "code",
      "source": [
        "print(classes_dir)"
      ],
      "metadata": {
        "colab": {
          "base_uri": "https://localhost:8080/"
        },
        "id": "Qx1nBZ1gIeMg",
        "outputId": "a96c5227-88a8-46ba-dba1-dd5a91eefbf7"
      },
      "execution_count": null,
      "outputs": [
        {
          "output_type": "stream",
          "name": "stdout",
          "text": [
            "['User.1', 'User.4', 'User.3', 'User.2', 'User.5', 'User.7', 'User.6', 'User.10', 'User.8', 'User.9']\n"
          ]
        }
      ]
    },
    {
      "cell_type": "code",
      "source": [
        "print(classes_test)"
      ],
      "metadata": {
        "colab": {
          "base_uri": "https://localhost:8080/"
        },
        "id": "3UYanSYwIqjV",
        "outputId": "4bd3ec40-a973-4422-e882-4127f10ab6a9"
      },
      "execution_count": null,
      "outputs": [
        {
          "output_type": "stream",
          "name": "stdout",
          "text": [
            "['User.1', 'User.4', 'User.3', 'User.2', 'User.5', 'User.7', 'User.6', 'User.10', 'User.8', 'User.9']\n"
          ]
        }
      ]
    },
    {
      "cell_type": "code",
      "source": [
        "print(predicted_classes)"
      ],
      "metadata": {
        "colab": {
          "base_uri": "https://localhost:8080/"
        },
        "id": "v8TmI1vrA0gN",
        "outputId": "99cb6976-212c-471c-c634-6af06f21e47d"
      },
      "execution_count": null,
      "outputs": [
        {
          "output_type": "stream",
          "name": "stdout",
          "text": [
            "[0 0 0 1 1 1 2 2 2 3 3 3 4 4 4 5 5 5 5 6 6 7 7 7 7 8 8 8 9 9 9]\n"
          ]
        }
      ]
    },
    {
      "cell_type": "code",
      "source": [
        "print(y_true)"
      ],
      "metadata": {
        "colab": {
          "base_uri": "https://localhost:8080/"
        },
        "id": "7YQTMJ-e9ipd",
        "outputId": "50ac1f33-28bc-45a4-91d2-b735c1189bb4"
      },
      "execution_count": null,
      "outputs": [
        {
          "output_type": "stream",
          "name": "stdout",
          "text": [
            "[0 0 0 1 1 1 2 2 2 3 3 3 4 4 4 5 5 5 5 6 6 6 7 7 7 8 8 8 9 9 9]\n"
          ]
        }
      ]
    },
    {
      "cell_type": "code",
      "source": [
        "np.argmax(prediction1)\n"
      ],
      "metadata": {
        "colab": {
          "base_uri": "https://localhost:8080/"
        },
        "id": "4NIsKf--Go_C",
        "outputId": "9a32307d-eb95-4370-df3e-8be6621fbd04"
      },
      "execution_count": null,
      "outputs": [
        {
          "output_type": "execute_result",
          "data": {
            "text/plain": [
              "0"
            ]
          },
          "metadata": {},
          "execution_count": 223
        }
      ]
    },
    {
      "cell_type": "code",
      "source": [
        "np.argmax(prediction2)"
      ],
      "metadata": {
        "colab": {
          "base_uri": "https://localhost:8080/"
        },
        "id": "SwN-DrlZIV6N",
        "outputId": "ed366281-408b-4202-a3ef-dea91417bef2"
      },
      "execution_count": null,
      "outputs": [
        {
          "output_type": "execute_result",
          "data": {
            "text/plain": [
              "3"
            ]
          },
          "metadata": {},
          "execution_count": 224
        }
      ]
    },
    {
      "cell_type": "code",
      "source": [
        "np.argmax(prediction3)"
      ],
      "metadata": {
        "colab": {
          "base_uri": "https://localhost:8080/"
        },
        "id": "VI_DwaQmK1X3",
        "outputId": "8115edf9-07af-43e0-fe13-03991da3d5e3"
      },
      "execution_count": null,
      "outputs": [
        {
          "output_type": "execute_result",
          "data": {
            "text/plain": [
              "5"
            ]
          },
          "metadata": {},
          "execution_count": 225
        }
      ]
    },
    {
      "cell_type": "code",
      "source": [
        "np.argmax(prediction4)"
      ],
      "metadata": {
        "colab": {
          "base_uri": "https://localhost:8080/"
        },
        "id": "dGf0xzzANnho",
        "outputId": "8edfb03e-3814-4f1c-90e0-6975d782cccc"
      },
      "execution_count": null,
      "outputs": [
        {
          "output_type": "execute_result",
          "data": {
            "text/plain": [
              "3"
            ]
          },
          "metadata": {},
          "execution_count": 226
        }
      ]
    },
    {
      "cell_type": "code",
      "source": [
        "np.argmax(prediction5)"
      ],
      "metadata": {
        "colab": {
          "base_uri": "https://localhost:8080/"
        },
        "id": "yEoSWOwCON9J",
        "outputId": "d986fd3d-a64c-48b6-8183-93591f596120"
      },
      "execution_count": null,
      "outputs": [
        {
          "output_type": "execute_result",
          "data": {
            "text/plain": [
              "7"
            ]
          },
          "metadata": {},
          "execution_count": 227
        }
      ]
    },
    {
      "cell_type": "code",
      "source": [
        "np.argmax(prediction6)"
      ],
      "metadata": {
        "colab": {
          "base_uri": "https://localhost:8080/"
        },
        "id": "VNDITqKy9OPV",
        "outputId": "be3fda8f-28bc-45df-a158-7f1d5d052e59"
      },
      "execution_count": null,
      "outputs": [
        {
          "output_type": "execute_result",
          "data": {
            "text/plain": [
              "9"
            ]
          },
          "metadata": {},
          "execution_count": 228
        }
      ]
    },
    {
      "cell_type": "code",
      "source": [
        "np.argmax(prediction7)"
      ],
      "metadata": {
        "colab": {
          "base_uri": "https://localhost:8080/"
        },
        "id": "wE9l1cUk9Psd",
        "outputId": "e41f303d-9d2c-41f4-83fc-d2832c92f8d2"
      },
      "execution_count": null,
      "outputs": [
        {
          "output_type": "execute_result",
          "data": {
            "text/plain": [
              "8"
            ]
          },
          "metadata": {},
          "execution_count": 229
        }
      ]
    },
    {
      "cell_type": "code",
      "source": [
        "# Prédire les classes des images avec le modèle\n",
        "predictions = model.predict(test_generator, steps=len(test_generator), verbose=1)\n"
      ],
      "metadata": {
        "id": "7xDJ2IoSFNdX",
        "colab": {
          "base_uri": "https://localhost:8080/"
        },
        "outputId": "9ff4629a-a1b3-4f6d-c29b-75bf97ecd7b8"
      },
      "execution_count": null,
      "outputs": [
        {
          "output_type": "stream",
          "name": "stdout",
          "text": [
            "2/2 [==============================] - 1s 121ms/step\n"
          ]
        }
      ]
    },
    {
      "cell_type": "code",
      "source": [
        "# Obtenir les étiquettes de classe prédites\n",
        "predicted_classes = np.argmax(predictions, axis=1)"
      ],
      "metadata": {
        "id": "X5avtKIof8mh"
      },
      "execution_count": null,
      "outputs": []
    },
    {
      "cell_type": "code",
      "source": [
        "# Vraies étiquettes\n",
        "true_classes = test_generator.classes\n",
        "\n",
        "# Calcul de l'accuracy\n",
        "accuracy = np.mean(predicted_classes == true_classes)\n",
        "print(f\"Test Accuracy : {accuracy*100:.2f}%\")\n"
      ],
      "metadata": {
        "id": "y5DgtnEIgBN1",
        "colab": {
          "base_uri": "https://localhost:8080/"
        },
        "outputId": "08afe418-c101-482b-cfca-fa97a939b0cf"
      },
      "execution_count": null,
      "outputs": [
        {
          "output_type": "stream",
          "name": "stdout",
          "text": [
            "Test Accuracy : 96.77%\n"
          ]
        }
      ]
    },
    {
      "cell_type": "code",
      "execution_count": 46,
      "metadata": {
        "id": "wg974fGWHedA"
      },
      "outputs": [],
      "source": [
        "def detect(gray):\n",
        "    faces = face_cascade.detectMultiScale(gray, 1.3, 5)\n",
        "    for (x, y, w, h) in faces:\n",
        "        roi_gray = gray[y:y+h, x:x+w]\n",
        "        return roi_gray  # Return face region\n",
        "    return None  # Return None\n",
        "\n",
        "\n"
      ]
    },
    {
      "cell_type": "code",
      "source": [
        "import cv2\n",
        "import os\n",
        "import shutil\n",
        "\n",
        "# # Loading the cascades\n",
        "face_cascade = cv2.CascadeClassifier('/content/drive/MyDrive/ProjetIA/Real_time_face_recognition/Haarcascades/haarcascade_frontalface_default.xml')\n",
        "#eye_cascade = cv2.CascadeClassifier('../Haarcascades/haarcascade_eye.xml')\n",
        "file_pathAH_camera= '/content/drive/MyDrive/ProjetIA/Real_time_face_recognition/face_dataset/data/test/User.5/7.26.jpg'\n",
        "file_pathSof_camera= '/content/drive/MyDrive/ProjetIA/Real_time_face_recognition/User.8/IMG_20231124_184644.jpg'\n",
        "file_pathTib_camera = '/content/drive/MyDrive/ProjetIA/Real_time_face_recognition/User.9/IMG_20231125_122740.jpg'"
      ],
      "metadata": {
        "id": "HhAsEk9kfN6a"
      },
      "execution_count": 36,
      "outputs": []
    },
    {
      "cell_type": "code",
      "source": [
        "\n",
        "img2 = cv2.imread(file_pathTib_camera)\n",
        "img1 = cv2.imread(file_pathSof_camera)\n",
        "gray1 = cv2.cvtColor(img1, cv2.COLOR_BGR2GRAY)\n",
        "gray2 = cv2.cvtColor(img2, cv2.COLOR_BGR2GRAY)\n",
        "# Detect face\n",
        "\n",
        "face_roi1= detect(gray1)\n",
        "face_roi2= detect(gray2)\n",
        "#dest_file_path = os.path.join(src_dir, file)\n",
        "cv2.imwrite('/content/drive/MyDrive/ProjetIA/Real_time_face_recognition/face_dataset/data/test/imgSF.jpg', face_roi1)\n",
        "cv2.imwrite('/content/drive/MyDrive/ProjetIA/Real_time_face_recognition/face_dataset/data/test/imgTib.jpg', face_roi2)\n",
        "\n"
      ],
      "metadata": {
        "colab": {
          "base_uri": "https://localhost:8080/"
        },
        "id": "eZcnMS1qe9XK",
        "outputId": "2ee8fc1d-3254-4a5b-c2c0-fdc886fa4a06"
      },
      "execution_count": 49,
      "outputs": [
        {
          "output_type": "execute_result",
          "data": {
            "text/plain": [
              "True"
            ]
          },
          "metadata": {},
          "execution_count": 49
        }
      ]
    },
    {
      "cell_type": "code",
      "source": [
        "img_path_SF= '/content/drive/MyDrive/ProjetIA/Real_time_face_recognition/face_dataset/data/test/imgSF.jpg'\n",
        "img_path_Tib= '/content/drive/MyDrive/ProjetIA/Real_time_face_recognition/face_dataset/data/test/imgTib.jpg'\n",
        "\n",
        "image1 = load_and_preprocess_image(img_path_SF)\n",
        "image2 = load_and_preprocess_image(img_path_Tib)\n",
        "# list_img = [face_roi1, face_roi2]\n",
        "# for face_roi in list_img\n",
        "  #if face_roi is not None:\n",
        "\n",
        "\n",
        "predictionSF= model.predict(image1)\n",
        "if np.max(predictionSF) <0.6 : print('personne non reconnue')\n",
        "else: print( np.argmax(predictionSF))\n"
      ],
      "metadata": {
        "colab": {
          "base_uri": "https://localhost:8080/"
        },
        "id": "mOlocjNNva4W",
        "outputId": "66c9d32f-dc6e-4b3c-9a67-c2dbb2d5eac0"
      },
      "execution_count": 52,
      "outputs": [
        {
          "output_type": "stream",
          "name": "stdout",
          "text": [
            "1/1 [==============================] - 0s 29ms/step\n",
            "8\n"
          ]
        }
      ]
    },
    {
      "cell_type": "code",
      "source": [
        "predictionTib= model.predict(image2)\n",
        "if np.max(predictionTib) <0.6 : print('personne non reconnue')\n",
        "else: print( np.argmax(predictionTib))"
      ],
      "metadata": {
        "colab": {
          "base_uri": "https://localhost:8080/"
        },
        "id": "W4iu1kIuxHYB",
        "outputId": "31e7c73a-1861-42e0-b589-e19708d5dc76"
      },
      "execution_count": 53,
      "outputs": [
        {
          "output_type": "stream",
          "name": "stdout",
          "text": [
            "1/1 [==============================] - 0s 27ms/step\n",
            "9\n"
          ]
        }
      ]
    },
    {
      "cell_type": "code",
      "source": [],
      "metadata": {
        "id": "mvVHveL8w6xh"
      },
      "execution_count": null,
      "outputs": []
    },
    {
      "cell_type": "markdown",
      "source": [
        "# Conclusion\n"
      ],
      "metadata": {
        "id": "c9-QLUy5Ot-K"
      }
    },
    {
      "cell_type": "markdown",
      "source": [
        "# Le model detecte et identifie les personnes du dataset local à 100%. Mais peut se tromper sur des personnes externes au dataset (peut prédire une identification alors que la personne est inconnue)\n"
      ],
      "metadata": {
        "id": "jhFDTO15yoyW"
      }
    },
    {
      "cell_type": "code",
      "execution_count": null,
      "metadata": {
        "id": "XyDyFAsDH-wq"
      },
      "outputs": [],
      "source": []
    },
    {
      "cell_type": "markdown",
      "source": [
        "\n",
        "\n",
        "---\n",
        "\n"
      ],
      "metadata": {
        "id": "Ht_EiB93Oo7_"
      }
    }
  ],
  "metadata": {
    "accelerator": "GPU",
    "colab": {
      "provenance": []
    },
    "kernelspec": {
      "display_name": "Python 3",
      "name": "python3"
    },
    "language_info": {
      "name": "python"
    }
  },
  "nbformat": 4,
  "nbformat_minor": 0
}